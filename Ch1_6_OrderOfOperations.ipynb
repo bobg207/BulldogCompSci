{
  "nbformat": 4,
  "nbformat_minor": 0,
  "metadata": {
    "colab": {
      "name": "Ch2-6_OrderOfOperations.ipynb",
      "provenance": [],
      "include_colab_link": true
    },
    "kernelspec": {
      "name": "python3",
      "display_name": "Python 3"
    }
  },
  "cells": [
    {
      "cell_type": "markdown",
      "metadata": {
        "id": "view-in-github",
        "colab_type": "text"
      },
      "source": [
        "<a href=\"https://colab.research.google.com/github/bobg207/BulldogCompSci/blob/master/Ch1_6_OrderOfOperations.ipynb\" target=\"_parent\"><img src=\"https://colab.research.google.com/assets/colab-badge.svg\" alt=\"Open In Colab\"/></a>"
      ]
    },
    {
      "cell_type": "markdown",
      "metadata": {
        "id": "ABv4xuh56_Mc"
      },
      "source": [
        "# **Order of Operations**\n",
        "\n",
        "When more than one operator appears in an expression, the order of evaluation depends on the rules of precedence. Python follows the same precedence rules for its mathematical operators that mathematics does.\n",
        "\n",
        "    1. Parentheses have the highest precedence and can be used to force an expression to evaluate in the order you want. Since expressions in parentheses are evaluated first, 2 * (3 - 1) is 4, and         (1 + 1) ** (5 - 2) is 8. You can also use parentheses to make an expression easier to read, as in (minute * 100) / 60, even though it doesn’t change the result. \n",
        "    \n",
        "    2. Exponentiation has the next highest precedence, so 2 ** 1 + 1 is 3 and not 4, and 3 * 1 ** 3 is 3 and not 27. Can you explain why?\n",
        "\n",
        "    3. Multiplication and both division operators have the same precedence, which is higher than addition and subtraction, which also have the same precedence. So 2 * 3 - 1 yields 5 rather than 4, and 5 - 2 * 2 is 1, not 6. \n",
        "    \n",
        "    4. Operators with the same precedence (except for **) are evaluated from left-to-right. In algebra we say they are left-associative. So in the expression 6 - 3 + 2, the subtraction happens first, yielding 3. We then add 2 to get the result 5. If the operations had been evaluated from right to left, the result would have been  6 - (3 + 2), which is 1.\n",
        "    \n",
        "    Note\n",
        "    An exception to the left-to-right left-associative rule is the exponentiation operator **. A useful hint is to always use parentheses to force exactly the order you want when exponentiation is involved:"
      ]
    },
    {
      "cell_type": "code",
      "metadata": {
        "id": "nROaMCU269lK"
      },
      "source": [
        "print(2 ** 3 ** 2)     # the right-most ** operator gets done first!\n",
        "print((2 ** 3) ** 2)   # use parentheses to force the order you want!"
      ],
      "execution_count": null,
      "outputs": []
    },
    {
      "cell_type": "markdown",
      "metadata": {
        "id": "GGluaQkU865g"
      },
      "source": [
        "See this [operators](https://docs.google.com/document/d/1af9LYyylPWSfVNIBZDVC4kzESsAOPYEaS5bfHtYl_7g/edit) file introduced in this class. You will also see many upcoming non-mathematical Python operators."
      ]
    },
    {
      "cell_type": "markdown",
      "metadata": {
        "id": "l0P6LGTN91-r"
      },
      "source": [
        "### **Your turn**"
      ]
    },
    {
      "cell_type": "code",
      "metadata": {
        "id": "vVHK9itA9-9v"
      },
      "source": [
        "# What is the value of the following expression:\n",
        "\n",
        "16 - 2 * 5 // 3 + 1"
      ],
      "execution_count": null,
      "outputs": []
    },
    {
      "cell_type": "code",
      "metadata": {
        "id": "E6R8cX0I-Cus"
      },
      "source": [
        "# What is the value of the following expression:\n",
        "\n",
        "2 ** 2 ** 3 * 3"
      ],
      "execution_count": null,
      "outputs": []
    }
  ]
}