{
  "nbformat": 4,
  "nbformat_minor": 0,
  "metadata": {
    "colab": {
      "name": "Ch1-5_Input.ipynb",
      "provenance": [],
      "collapsed_sections": [],
      "include_colab_link": true
    },
    "kernelspec": {
      "name": "python3",
      "display_name": "Python 3"
    }
  },
  "cells": [
    {
      "cell_type": "markdown",
      "metadata": {
        "id": "view-in-github",
        "colab_type": "text"
      },
      "source": [
        "<a href=\"https://colab.research.google.com/github/bobg207/BulldogCompSci/blob/master/Ch1_5_Input.ipynb\" target=\"_parent\"><img src=\"https://colab.research.google.com/assets/colab-badge.svg\" alt=\"Open In Colab\"/></a>"
      ]
    },
    {
      "cell_type": "markdown",
      "metadata": {
        "id": "OU-WYqH233eH"
      },
      "source": [
        "The program in the previous section works fine but is very limited in that it only works with one value for *total_secs*. What if we wanted to rewrite the program so that it was more general. One thing we could do is allow the user to enter any value they wish for the number of seconds. The program could then print the proper result for that starting value.\n",
        "\n",
        "In order to do this, we need a way to get ***input*** from the user. Luckily, in Python there is a built-in function to accomplish this task. As you might expect, it is called input.\n",
        "\n",
        "    n = input(\"Please enter your name: \")\n",
        "\n",
        "The input function allows the user to provide a ***prompt string***. When the function is evaluated, the prompt is shown. The user of the program can enter the name and press return. When this happens the text that has been entered is returned from the input function, and in this case assigned to the variable n. Make sure you run this example a number of times and try some different names in the input box that appears."
      ]
    },
    {
      "cell_type": "code",
      "metadata": {
        "id": "K7_1N2i63zRF"
      },
      "source": [
        "prompt = \"Please enter a number: \"\n",
        "num1 = int(input(prompt))\n",
        "num2 = int(input(\"Please enter another number: \"))\n",
        "\n",
        "\n",
        "print(num1)\n",
        "print(num2)\n",
        "print(num1*num2)\n",
        "print(type(num1))\n",
        "print(type(num2))"
      ],
      "execution_count": null,
      "outputs": []
    },
    {
      "cell_type": "markdown",
      "metadata": {
        "id": "ktU55Z_44MrE"
      },
      "source": [
        "It is very important to note that the ***input*** function returns a ***string*** value. Even if you asked the user to enter their age, you would get back a string like \"17\". It would be your job, as the programmer, to convert that string into an int or a ***float***, using the ***int*** or ***float*** converter functions we saw earlier.\n",
        "\n",
        "To modify our previous program, we will add an *input* statement to allow the user to enter the number of seconds. Then we will convert that *string* to an *integer*. From there the process is the same as before. To complete the example, we will print some appropriate output."
      ]
    },
    {
      "cell_type": "code",
      "metadata": {
        "id": "bNgSJmKR6Btm"
      },
      "source": [
        "str_seconds = input(\"Please enter the number of seconds you wish to convert\")\n",
        "total_secs = int(str_seconds)\n",
        "\n",
        "hours = total_secs // 3600\n",
        "secs_still_remaining = total_secs % 3600\n",
        "minutes =  secs_still_remaining // 60\n",
        "secs_finally_remaining = secs_still_remaining  % 60\n",
        "\n",
        "print(\"Hrs=\", hours, \"mins=\", minutes, \"secs=\", secs_finally_remaining)"
      ],
      "execution_count": null,
      "outputs": []
    },
    {
      "cell_type": "markdown",
      "metadata": {
        "id": "81uGGDSy6J4R"
      },
      "source": [
        "The variable *str_seconds* will refer to the string that is entered by the user. As we said above, even though this string may be 7684, it is still a string and not a number. To convert it to an *integer*, we use the ***int*** function. The result is referred to by *total_secs*. Now, each time you run the program, you can enter a new value for the number of seconds to be converted."
      ]
    },
    {
      "cell_type": "markdown",
      "metadata": {
        "id": "oyFEGqLV6g5e"
      },
      "source": [
        "### **Your turn**\n",
        "\n",
        "Example 1: Ask for a users name, age, and favorite subject.  Then create a message that displays the information provided."
      ]
    },
    {
      "cell_type": "code",
      "metadata": {
        "id": "Sdfh7KOU6oy0"
      },
      "source": [
        "# Example 1\n"
      ],
      "execution_count": null,
      "outputs": []
    },
    {
      "cell_type": "markdown",
      "metadata": {
        "id": "tAPhyA850elU"
      },
      "source": [
        "Example 2: Create a converter that will ask for amount of days and convert it to years, then print a message displaying the result."
      ]
    },
    {
      "cell_type": "code",
      "metadata": {
        "id": "EDdnLolcM55c"
      },
      "source": [
        "# Example 2\n"
      ],
      "execution_count": null,
      "outputs": []
    },
    {
      "cell_type": "markdown",
      "metadata": {
        "id": "AwUWU1jD1TdE"
      },
      "source": [
        "Example 3: Accept two numbers from the user and return their sum, multiplication and division."
      ]
    },
    {
      "cell_type": "code",
      "metadata": {
        "id": "yniN0E4O1ZWL"
      },
      "source": [
        "# Example 3\n"
      ],
      "execution_count": null,
      "outputs": []
    }
  ]
}