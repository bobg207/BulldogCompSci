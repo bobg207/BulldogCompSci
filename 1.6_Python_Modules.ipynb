{
  "nbformat": 4,
  "nbformat_minor": 0,
  "metadata": {
    "colab": {
      "name": "Python_Modules.ipynb",
      "provenance": [],
      "collapsed_sections": [],
      "include_colab_link": true
    },
    "kernelspec": {
      "name": "python3",
      "display_name": "Python 3"
    }
  },
  "cells": [
    {
      "cell_type": "markdown",
      "metadata": {
        "id": "view-in-github",
        "colab_type": "text"
      },
      "source": [
        "<a href=\"https://colab.research.google.com/github/bobg207/BulldogCompSci/blob/master/1.6_Python_Modules.ipynb\" target=\"_parent\"><img src=\"https://colab.research.google.com/assets/colab-badge.svg\" alt=\"Open In Colab\"/></a>"
      ]
    },
    {
      "cell_type": "markdown",
      "metadata": {
        "id": "sTtZIpdoqs8w"
      },
      "source": [
        "A **module** is a file containing Python definitions and statements intended for use in other Python programs. There are many Python modules that come with Python as part of the standard library. Once we import the module, we can use things that are defined inside."
      ]
    },
    {
      "cell_type": "code",
      "metadata": {
        "id": "cNiibaaQqmND"
      },
      "source": [
        "import statistics\n",
        "\n",
        "numbers_list = [45, 67, 7, 33, 58, 92, 28, 28]\n",
        "\n",
        "print(\"The mean of the numbers is\", statistics.mean(numbers_list))\n",
        "print()\n",
        "print(\"The median of the numbers is\", statistics.median(numbers_list))\n",
        "print()\n",
        "print(\"The mode of the numbers is\", statistics.mode(numbers_list))"
      ],
      "execution_count": null,
      "outputs": []
    },
    {
      "cell_type": "markdown",
      "metadata": {
        "id": "DwaWyQ8BsK-1"
      },
      "source": [
        "It's not required that you memorize the functions that are available in any module but you should know how to locate them. \n",
        "\n",
        "Here we are using mean, median, and mode, all of which are defined inside the *statistics* module.\n",
        "\n",
        "But what if no one had told us about *statistics*? How would we know that it exists. How would we know what it can do for us? The answer is to ask for help and the best place to get help about the Python programming environment is to consult with the Python Documentation.\n",
        "\n",
        "The [Python Documentation](https://docs.python.org/3/) site for Python version 3 (the home page is shown below) is an extremely useful reference for all aspects of Python. The site contains a listing of all the standard modules that are available with Python (see [Global Module Index](https://docs.python.org/3/py-modindex.html)). You are encouraged you to become familiar with this site and to use it often.\n",
        "\n",
        "If you have not done so already, take a look at the Global Module Index. Here you will see an alphabetical listing of all the modules that are available as part of the standard library. Find the *statistics* module.\n",
        "\n",
        "You can see that all the *statistics* functionality that we have talked about is there. However, there is so much more. Take some time to read through and familiarize yourself with some of the other things that *statistics* can do."
      ]
    },
    {
      "cell_type": "markdown",
      "metadata": {
        "id": "XwNsGH7ju4gn"
      },
      "source": [
        "# Using Modules\n",
        "Before we move on to exploring other modules, we should say a bit more about what modules are and how we typically use them. One of the most important things to realize about modules is the fact that they are data objects, just like any other data in Python. Module objects simply contain other Python elements.\n",
        "\n",
        "The first thing we need to do when we wish to use a module is perform an ***import***. In the example above, the statement ***import statistics*** creates a new name, math, and makes it refer to a module object.\n",
        "\n",
        "In order to use something contained in a module, we use the ***dot notation***, providing the module name and the specific item joined together with a “dot”. For example, to use the *statistics* class, we say statistics.mean( ). You should read this as: “In the module statistics, access the Python function called mean( )\".\n",
        "\n",
        "We will now turn our attention to a few other modules that you might find useful."
      ]
    },
    {
      "cell_type": "markdown",
      "metadata": {
        "id": "o-fFT0qvyjXF"
      },
      "source": [
        "# The math module\n",
        "The *math* module contains the kinds of mathematical functions you would typically find on your calculator and some mathematical constants like *pi* and *e*. As we noted above, when we ***import math***, we create a reference to a module object that contains these elements.\n",
        "\n",
        "Here are some items from the *math* module in action. If you want more information, you can check out the [Math Module](https://docs.python.org/3/library/math.html#module-math) Python Documentation."
      ]
    },
    {
      "cell_type": "code",
      "metadata": {
        "id": "FN5ApAm6y_PE"
      },
      "source": [
        "import math\n",
        "\n",
        "print(math.e)\n",
        "print()\n",
        "print(math.sin(math.radians(90)))   # sin of 90 degrees\n",
        "print(math.gcd(18, 6))"
      ],
      "execution_count": null,
      "outputs": []
    },
    {
      "cell_type": "markdown",
      "metadata": {
        "id": "qVQ3-KebzJuT"
      },
      "source": [
        "Once we have imported the *math* module, anything defined there can be used in our program. Notice that we always use the name of the module followed by a dot followed by the specific item from the module (*math.sqrt*). You can think of this as *lastname.firstname* where the lastname is the module family and the firstname is the individual entry in the module.\n",
        "\n",
        "If you have not done so already, take a look at the documentation for the math module."
      ]
    },
    {
      "cell_type": "markdown",
      "metadata": {
        "id": "go-sE3LD49Yj"
      },
      "source": [
        "## Your Turn\n",
        "\n",
        "**Example 1**: Visit the Math Module site (documentation) and find the function for taking the square root of a number and use it to find, then display, the square root of 1525225."
      ]
    },
    {
      "cell_type": "code",
      "metadata": {
        "id": "-9Z5ScPj5h0k",
        "colab": {
          "base_uri": "https://localhost:8080/"
        },
        "outputId": "f5d0e8b1-6b45-4487-b62d-e55ab19857f8"
      },
      "source": [
        "# Example 1\n",
        "import math\n",
        "\n",
        "root = math.sqrt(1525225)\n",
        "\n",
        "print(\"The square root of 1525225 is\", root)"
      ],
      "execution_count": null,
      "outputs": [
        {
          "output_type": "stream",
          "name": "stdout",
          "text": [
            "The square root of 1525225 is 1235.0\n"
          ]
        }
      ]
    },
    {
      "cell_type": "markdown",
      "metadata": {
        "id": "4HABLyZZ5kWs"
      },
      "source": [
        "**Example 2**: Example 1: Visit the Math Module site (documentation) and find the attribute for the value of pi.  Use the attribute to calculate the area of a circle with radius = 5. Then display the result.\n",
        "\n",
        "> area = pi * radius^2"
      ]
    },
    {
      "cell_type": "code",
      "metadata": {
        "id": "XdnBb9Gd6w8m"
      },
      "source": [
        "# Example 2\n"
      ],
      "execution_count": null,
      "outputs": []
    },
    {
      "cell_type": "markdown",
      "metadata": {
        "id": "MXyTdkyozjZe"
      },
      "source": [
        "# The random module\n",
        "We often want to use random numbers in programs. Here are a few typical uses:\n",
        "\n",
        "    To play a game of chance where the computer needs to throw some dice, pick \n",
        "    a number, or flip a coin,\n",
        "\n",
        "    To shuffle a deck of playing cards randomly,\n",
        "\n",
        "    To randomly allow a new enemy spaceship to appear and shoot at you,\n",
        "\n",
        "    To simulate possible rainfall when we make a computerized model for \n",
        "    estimating the environmental impact of building a dam,\n",
        "\n",
        "    For encrypting your banking session on the Internet.\n",
        "\n",
        "Python provides a module ***random*** that helps with tasks like this. You can take a look at it in the [documentation](https://docs.python.org/3/library/random.html). Here are the key things we can do with it."
      ]
    },
    {
      "cell_type": "code",
      "metadata": {
        "id": "g2PyiYu0z0Yy"
      },
      "source": [
        "import random\n",
        "\n",
        "prob = random.random()\n",
        "print(prob)\n",
        "print()\n",
        "diceThrow = random.randrange(1, 7)       # return an int, one of 1,2,3,4,5,6\n",
        "print(diceThrow)"
      ],
      "execution_count": null,
      "outputs": []
    },
    {
      "cell_type": "markdown",
      "metadata": {
        "id": "gKtxacUi0BTP"
      },
      "source": [
        "Press the run button a number of times. Note that the values change each time. These are random numbers.\n",
        "\n",
        "The ***randrange*** function generates an integer between its lower and upper argument, using the same semantics as ***range*** — so the lower bound is included, but the upper bound is excluded. All the values have an equal probability of occurring (i.e. the results are uniformly distributed).\n",
        "\n",
        "The ***random()*** function returns a floating point number in the range [0.0, 1.0) — the square bracket means “closed interval on the left” and the round parenthesis means “open interval on the right”. In other words, 0.0 is possible, but all returned numbers will be strictly less than 1.0. It is usual to scale the results after calling this method, to get them into a range suitable for your application.\n",
        "\n",
        "In the case shown here, we’ve converted the result of the method call to a number in the range [0.0, 5.0). Once more, these are uniformly distributed numbers — numbers close to 0 are just as likely to occur as numbers close to 0.5, or numbers close to 1.0. If you continue to press the run button you will see random values between 0.0 and up to but not including 5.0."
      ]
    },
    {
      "cell_type": "code",
      "metadata": {
        "id": "G1N0pf4G0STh"
      },
      "source": [
        "import random\n",
        "\n",
        "prob = random.random()\n",
        "result = prob * 5\n",
        "print(result)"
      ],
      "execution_count": null,
      "outputs": []
    },
    {
      "cell_type": "markdown",
      "metadata": {
        "id": "NxDK92EX9DQ6"
      },
      "source": [
        "## Your Turn\n",
        "\n",
        "**Example 3**: Suppose you were writing the code to simulate the flipping of a coin.  There are 2 possible outcomes Heads or Tails (\"H\" or \"T\").  Look through the Random documentation and find a function that could be used to help with this.  Write the code to flip a coin and display the result."
      ]
    },
    {
      "cell_type": "code",
      "metadata": {
        "id": "rDtUguWJ9jVI"
      },
      "source": [
        "# Example 3\n"
      ],
      "execution_count": null,
      "outputs": []
    }
  ]
}