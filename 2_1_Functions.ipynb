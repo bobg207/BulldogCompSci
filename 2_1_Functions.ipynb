{
  "nbformat": 4,
  "nbformat_minor": 0,
  "metadata": {
    "colab": {
      "name": "2_1_Functions.ipynb",
      "provenance": [],
      "collapsed_sections": [],
      "include_colab_link": true
    },
    "kernelspec": {
      "name": "python3",
      "display_name": "Python 3"
    }
  },
  "cells": [
    {
      "cell_type": "markdown",
      "metadata": {
        "id": "view-in-github",
        "colab_type": "text"
      },
      "source": [
        "<a href=\"https://colab.research.google.com/github/bobg207/BulldogCompSci/blob/master/2_1_Functions.ipynb\" target=\"_parent\"><img src=\"https://colab.research.google.com/assets/colab-badge.svg\" alt=\"Open In Colab\"/></a>"
      ]
    },
    {
      "cell_type": "markdown",
      "metadata": {
        "id": "po0WUPuOUQuM"
      },
      "source": [
        "# What are Functions?\n",
        "Functions are a convenient way to divide your code into useful blocks, allowing us to order our code, make it more readable, reuse it and save some time. Also functions are a key way to define interfaces so programmers can share their code.\n",
        "\n",
        "In Python, a function is a named sequence of statements that belong together. Their primary purpose is to help us organize programs into chunks that match how we think about the solution to the problem.\n",
        "\n",
        "The syntax for a function definition is:\n",
        "\n",
        "```\n",
        "def name(parameters):\n",
        "        statements\n",
        "```\n",
        "\n",
        "You can make up any names you want for the functions you create, except that you *can’t use a name that is a Python keyword*, and the names *must follow the rules for legal identifiers* that were given previously. The **parameters** specify what information, if any, you have to provide in order to use the new function. Another way to say this is that the parameters specify what the function needs to do its work.\n",
        "\n"
      ]
    },
    {
      "cell_type": "markdown",
      "metadata": {
        "id": "lNsngE5U3syR"
      },
      "source": [
        "There can be any number of statements inside the function, but they have to be **indented** from the **def**. In the examples in this book, we will use the standard indentation of four spaces. Function definitions are the second of several **compound statements** we will see, all of which have the same pattern:\n",
        "\n",
        "*   A **header** line which begins with a keyword and ends with a colon.\n",
        "*   A **body** consisting of one or more Python statements, each indented the \n",
        "    same amount – 4 spaces is the Python standard – from the header line.\n",
        "\n",
        "In a function definition, the keyword in the header is def, which is followed by the name of the function and some parameters enclosed in parentheses. The parameter list may be empty, or it may contain any number of parameters separated from one another by commas. In either case, the parentheses are required.\n",
        "\n",
        "We need to say a bit more about the parameters. In the definition, the parameter list is more specifically known as the **formal parameters**. This list of names describes those things that the function will need to receive from the user of the function. When you use a function, you provide values to the formal parameters.\n",
        "\n",
        "A function needs certain information to do its work. These values, often called **arguments** or **actual parameters**, are passed to the function by the user."
      ]
    },
    {
      "cell_type": "markdown",
      "metadata": {
        "id": "9aRAIcGOWleP"
      },
      "source": [
        "# How do you write functions in Python?\n",
        "\n",
        "Functions in python are defined using the block keyword \"***def***\", followed with the function's name as the block's name. \n",
        "\n",
        "For example:"
      ]
    },
    {
      "cell_type": "code",
      "metadata": {
        "id": "zgUOIIOJD4Jq"
      },
      "source": [
        "def my_function():\n",
        "    print(\"Hello From My Function!\")"
      ],
      "execution_count": null,
      "outputs": []
    },
    {
      "cell_type": "markdown",
      "metadata": {
        "id": "koHaufPFXIjX"
      },
      "source": [
        "Functions may also receive arguments (variables passed from the caller to the function). \n",
        "\n",
        "For example:"
      ]
    },
    {
      "cell_type": "code",
      "metadata": {
        "id": "msH7QH2BW_Bw"
      },
      "source": [
        "def my_function_with_args(username, greeting):\n",
        "    print(f\"Hello, {username} , From My Function!, I wish you {greeting}.\")"
      ],
      "execution_count": null,
      "outputs": []
    },
    {
      "cell_type": "markdown",
      "metadata": {
        "id": "WShUQyqaXZIT"
      },
      "source": [
        "Functions may return a value to the caller, using the keyword- 'return' . \n",
        "\n",
        "For example:"
      ]
    },
    {
      "cell_type": "code",
      "metadata": {
        "id": "K-2plUegXgwD"
      },
      "source": [
        "def sum_two_numbers(a, b):\n",
        "    return a + b"
      ],
      "execution_count": null,
      "outputs": []
    },
    {
      "cell_type": "markdown",
      "metadata": {
        "id": "5gAYlk9LYVQz"
      },
      "source": [
        "# How do you call functions in Python?\n",
        "Defining a new function does not make the function run. To do that we need a function call. This is also known as a function invocation. We’ve already seen how to call some built-in functions like print, range and int. Function calls contain the name of the function to be executed followed by a list of values in parentheses, called arguments, which are assigned to the parameters in the function definition. \n",
        "\n",
        "Once we’ve defined a function, we can call it as often as we like and its statements will be executed each time we call it.\n",
        "\n",
        "For example, lets call the functions written above (in the previous example):"
      ]
    },
    {
      "cell_type": "code",
      "metadata": {
        "id": "DVX2T7_bYdtj"
      },
      "source": [
        "# Define our 2 functions\n",
        "def my_function():\n",
        "    print(\"Hello From My Function!\")\n",
        "\n",
        "def my_function_with_args(username, greeting):\n",
        "    print(f\"Hello, {username}, From My Function!, I wish you {greeting}\"\n",
        "\n",
        "# print(a simple greeting)\n",
        "my_function()\n",
        "print()\n",
        "\n",
        "#prints - \"Hello, John Doe, From My Function!, I wish you a great year!\"\n",
        "my_function_with_args(\"John Doe\", \"a great year!\")\n",
        "my_function_with_args(\"Jane Doe\", \"a wonderful day!\")\n",
        "my_function_with_args(\"Fred Astaire\", \"a Happy Birthday!\")"
      ],
      "execution_count": null,
      "outputs": []
    },
    {
      "cell_type": "markdown",
      "metadata": {
        "id": "l7nWuOVN5qlQ"
      },
      "source": [
        "# Functions that Return Values\n",
        "Most functions require arguments, values that control how the function does its job. For example, if you want to find the absolute value of a number, you have to indicate what the number is. Python has a built-in function for computing the absolute value:"
      ]
    },
    {
      "cell_type": "code",
      "metadata": {
        "id": "yefOVCwf5vXl"
      },
      "source": [
        "print(abs(5))\n",
        "print()\n",
        "print(abs(-5))"
      ],
      "execution_count": null,
      "outputs": []
    },
    {
      "cell_type": "markdown",
      "metadata": {
        "id": "1PhPQcH85y-9"
      },
      "source": [
        "In this example, the arguments to the abs function are 5 and -5.\n",
        "\n",
        "Some functions take more than one argument. For example the ***math*** module contains a function called ***pow*** which takes two arguments, the base and the exponent."
      ]
    },
    {
      "cell_type": "code",
      "metadata": {
        "id": "XqhCGTFs57R8"
      },
      "source": [
        "import math\n",
        "print(math.pow(2, 3))\n",
        "print()\n",
        "print(math.pow(7, 4))"
      ],
      "execution_count": null,
      "outputs": []
    },
    {
      "cell_type": "markdown",
      "metadata": {
        "id": "TC41s1xM6De6"
      },
      "source": [
        "\n",
        "\n",
        "*   **Note**:  Of course, we have already seen that raising a base to an \n",
        "    exponent can be done with the ** operator.\n",
        "\n",
        "Another built-in function that takes more than one argument is ***max***."
      ]
    },
    {
      "cell_type": "code",
      "metadata": {
        "id": "fLjgi9Pr6fp0"
      },
      "source": [
        "print(max(7, 11))\n",
        "print()\n",
        "print(max(4, 1, 17, 2, 12))\n",
        "print()\n",
        "print(max(3 * 11, 5 ** 3, 512 - 9, 1024 ** 0))"
      ],
      "execution_count": null,
      "outputs": []
    },
    {
      "cell_type": "markdown",
      "metadata": {
        "id": "hlk2NfhD6pJA"
      },
      "source": [
        "***max*** can be sent any number of arguments, separated by commas, and will **return** the maximum value sent. The arguments can be either simple values or expressions. In the last example, 503 is returned, since it is larger than 33, 125, and 1. Note that max also works on lists of values.\n",
        "\n",
        "Furthermore, functions like ***range***, ***int***, ***abs*** all return values that can be used to build more complex expressions. "
      ]
    },
    {
      "cell_type": "markdown",
      "metadata": {
        "id": "fd_-aCA28gCB"
      },
      "source": [
        "## Fruitful Functions\n",
        "Functions that return values are sometimes called **fruitful functions**. In many other languages, a chunk that doesn’t return a value is called a **procedure**, but we will stick here with the Python way of also calling it a function, or if we want to stress it, a **non-fruitful function**.\n",
        "\n",
        "Fruitful functions still allow the user to provide information (arguments). However there is now an additional piece of data that is returned from the function.\n",
        "\n",
        "How do we write our own fruitful function? Let’s start by creating a very simple mathematical function that we will call square. The square function will take one number as a parameter and return the result of squaring that number. Here is the black-box diagram with the Python code following."
      ]
    },
    {
      "cell_type": "code",
      "metadata": {
        "id": "zUh7mQdv8vcb"
      },
      "source": [
        "def square(user_input):\n",
        "    output = user_input * user_input\n",
        "    return output\n",
        "\n",
        "to_square = 10\n",
        "result = square(to_square)\n",
        "print(\"The result of\", to_square, \"squared is\", result)"
      ],
      "execution_count": null,
      "outputs": []
    },
    {
      "cell_type": "markdown",
      "metadata": {
        "id": "LeeBugqq81un"
      },
      "source": [
        "The **return** statement is followed by an expression which is evaluated. Its result is returned to the caller as the “fruit” of calling this function. Because the return statement can contain any Python expression we could have avoided creating the **temporary variable** y and simply used return x\\*x. Try modifying the square function above to see that this works just the same. On the other hand, using temporary variables like y in the program above makes debugging easier. These temporary variables are examples of **local variables**, pursued further in the next section.\n",
        "\n",
        "Notice something important here. The name of the variable we pass as an argument — toSquare — has nothing to do with the name of the formal parameter — x. It is as if *x = toSquare* is executed when *square* is called. It doesn’t matter what the value was named in the caller. In *square*, it’s name is *x*. \n",
        "\n",
        "*   **Note**: The call to a function terminates after the execution of a return \n",
        "    statement. This is fairly obvious if the return statement is the last \n",
        "    statement in the function, but we will see later where it makes sense to \n",
        "    have a return statement even when other statements follow, and the further \n",
        "    statements are not executed.\n",
        "\n",
        "Finally, there is one more aspect of function return values that should be noted. All Python functions return the value ***None*** unless there is an explicit return statement with a value other than None. Consider the following common mistake made by beginning Python programmers. As you read through this example, pay very close attention to the return value in the local variables listing. Then look at what is printed when the function returns."
      ]
    },
    {
      "cell_type": "code",
      "metadata": {
        "id": "ecbGKF7a-Fwn"
      },
      "source": [
        "def square(user_input):\n",
        "  output = user_input * user_input\n",
        "  print(output)   # Bad! should use return instead!\n",
        "\n",
        "to_square = 10\n",
        "square_result = square(to_square)\n",
        "print(\"The result of\", to_square, \"squared is\", square_result)"
      ],
      "execution_count": null,
      "outputs": []
    },
    {
      "cell_type": "markdown",
      "metadata": {
        "id": "MF__SRAp-mDu"
      },
      "source": [
        "The function uses print( ) rather than return.  So when the function is called the 100 is displayed but NOT returned.  The value None is assigned to square_result and displayed from print( ) call on the last line.\n",
        "\n",
        "\n",
        "*   **Note**: 99% of the functions you create will \"return\" a value to the main \n",
        "    portion of the code.  \"return\" allows the output of the function to be used \n",
        "    in other calculations.  \"print()\" as the output of the function only \n",
        "    displays the value in the ( ).  That value is lost once it is displayed.\n",
        "\n"
      ]
    },
    {
      "cell_type": "markdown",
      "metadata": {
        "id": "-h_JAzrIjqJw"
      },
      "source": [
        "# Proper Coding Template\n",
        "\n",
        "```\n",
        "    imports\n",
        "\n",
        "    constants\n",
        "\n",
        "    functions\n",
        "\n",
        "    code\n",
        "```\n",
        "\n"
      ]
    },
    {
      "cell_type": "markdown",
      "metadata": {
        "id": "euKHE06qj7vv"
      },
      "source": [
        "# Function Examples"
      ]
    },
    {
      "cell_type": "markdown",
      "metadata": {
        "id": "KApc5m5ZiyO6"
      },
      "source": [
        "           / \\ \n",
        "          /   \\\n",
        "         /     \\ \n",
        "        +-------+\n",
        "        |       | \n",
        "        |       | \n",
        "        +-------+ \n",
        "        | United| \n",
        "        | States| \n",
        "        +-------+ \n",
        "        |       | \n",
        "        |       | \n",
        "        +-------+ \n",
        "           / \\ \n",
        "          /   \\ \n",
        "         /     \\\n",
        "\n",
        "Part 1: Look for the repitition that exists in the rocket above.  Create a function that draws those repetitive sections and other function(s) for the extra sections.  Create a function called build_rocket( ) that uses the other functions to construct the rocket.\n"
      ]
    },
    {
      "cell_type": "code",
      "metadata": {
        "id": "f7jVmvKrjkEv"
      },
      "source": [
        "# Example 1\n"
      ],
      "execution_count": null,
      "outputs": []
    },
    {
      "cell_type": "markdown",
      "metadata": {
        "id": "A9x0aumpkFvG"
      },
      "source": [
        "Part 2: Create a function batting_avg( ) that takes 2 parameters, hits and at_bats and returns the batting average"
      ]
    },
    {
      "cell_type": "code",
      "metadata": {
        "id": "UVgr0us8kMsM"
      },
      "source": [
        "# Example 2"
      ],
      "execution_count": null,
      "outputs": []
    }
  ]
}