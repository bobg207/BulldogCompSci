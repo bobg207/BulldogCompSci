{
  "nbformat": 4,
  "nbformat_minor": 0,
  "metadata": {
    "colab": {
      "name": "for Loop.ipynb",
      "provenance": [],
      "include_colab_link": true
    },
    "kernelspec": {
      "name": "python3",
      "display_name": "Python 3"
    }
  },
  "cells": [
    {
      "cell_type": "markdown",
      "metadata": {
        "id": "view-in-github",
        "colab_type": "text"
      },
      "source": [
        "<a href=\"https://colab.research.google.com/github/bobg207/BulldogCompSci/blob/master/for_Loop.ipynb\" target=\"_parent\"><img src=\"https://colab.research.google.com/assets/colab-badge.svg\" alt=\"Open In Colab\"/></a>"
      ]
    },
    {
      "cell_type": "markdown",
      "metadata": {
        "id": "xQYqFjak9JGe"
      },
      "source": [
        "# Iteration\n",
        "**Iteration** means executing the same block of code over and over, potentially many times. A programming structure that implements iteration is called a **loop**.\n",
        "\n",
        "In programming, there are two types of iteration, **indefinite** and **definite**:\n",
        "1. With **indefinite iteration**, the number of times the loop is executed isn’t specified explicitly in advance. Rather, the designated block is executed repeatedly as long as some condition is met.\n",
        "\n",
        "2. With **definite iteration**, the number of times the designated block will be executed is specified explicitly at the time the loop starts."
      ]
    },
    {
      "cell_type": "markdown",
      "metadata": {
        "id": "8QdCyBCcXyah"
      },
      "source": [
        "In this tutorial we'll be looking at definite iteration using the ***for loop***."
      ]
    },
    {
      "cell_type": "markdown",
      "metadata": {
        "id": "8ZYbp_TA9Q30"
      },
      "source": [
        "# Syntax of For loop in Python\n",
        "\n",
        "\n",
        "```\n",
        "for <variable> in <sequence>:  \n",
        "   body_of_loop that has set of statements\n",
        "   which requires repeated execution\n",
        "```\n",
        "\n",
        "Here *variable* is a variable that is used for iterating over a <sequence>. On every iteration it takes the next value from <sequence>  until the end of sequence is reached.\n",
        "\n",
        "Lets take few examples of for loop to understand the usage."
      ]
    },
    {
      "cell_type": "markdown",
      "metadata": {
        "id": "J8GeFqY39ktf"
      },
      "source": [
        "# Python – For loop examples\n"
      ]
    },
    {
      "cell_type": "markdown",
      "metadata": {
        "id": "kFf1XdIM_4r2"
      },
      "source": [
        "Basic loop"
      ]
    },
    {
      "cell_type": "code",
      "metadata": {
        "colab": {
          "base_uri": "https://localhost:8080/"
        },
        "id": "VnoGI0Plqqzi",
        "outputId": "603fc579-ffc8-45bf-c9ed-e1477286bfab"
      },
      "source": [
        "print(1)\n",
        "print(2)\n",
        "print(3)\n",
        "print(4)"
      ],
      "execution_count": null,
      "outputs": [
        {
          "output_type": "stream",
          "text": [
            "1\n",
            "2\n",
            "3\n",
            "4\n"
          ],
          "name": "stdout"
        }
      ]
    },
    {
      "cell_type": "code",
      "metadata": {
        "id": "pWv6gpP1_95t"
      },
      "source": [
        "numbers = [1,2,3,4]\n",
        "\n",
        "for number in numbers:\n",
        "    print('number =', number)\n",
        "\n",
        "print(\"Loop is complete\")"
      ],
      "execution_count": null,
      "outputs": []
    },
    {
      "cell_type": "markdown",
      "metadata": {
        "id": "xj30Jci8AHJS"
      },
      "source": [
        "Here is how for loop works:\n",
        "\n",
        "In the first iteration *value* is assigned value 1 then print statement is executed. In second iteration *value* is assigned value 2 then once again print statement is executed. This process continues until there are no more element in the list and for loop exists."
      ]
    },
    {
      "cell_type": "markdown",
      "metadata": {
        "id": "PQtvf16fAyGH"
      },
      "source": [
        "A Python *list* is a container of objects (in the case above they are all *ints*).  Almost all python containers can be iterated over."
      ]
    },
    {
      "cell_type": "markdown",
      "metadata": {
        "id": "_vKYOOnuBOKX"
      },
      "source": [
        "A Python *string* is another container, this container holds only characters.  Let's take a look at a loop involving a string."
      ]
    },
    {
      "cell_type": "markdown",
      "metadata": {
        "id": "6ssVqugVPiHN"
      },
      "source": [
        "This example will loop through the characters of a name and print the characters."
      ]
    },
    {
      "cell_type": "code",
      "metadata": {
        "id": "PMi6dxwRPp9a"
      },
      "source": [
        "name = 'John Doe'\n",
        "\n",
        "for char in name:\n",
        "  print(char)"
      ],
      "execution_count": null,
      "outputs": []
    },
    {
      "cell_type": "markdown",
      "metadata": {
        "id": "6GQZgdHaP2W9"
      },
      "source": [
        "Do you see, in the output, the blank line?  This is because there's a space in that string and space is a character in Python."
      ]
    },
    {
      "cell_type": "markdown",
      "metadata": {
        "id": "b65wWGG2B7T1"
      },
      "source": [
        "This example will determine the length of a name.  Often times, when looping, it'll be necessary to keep track of the number of times the loop has occurred.  We'll utilize a counter for this."
      ]
    },
    {
      "cell_type": "code",
      "metadata": {
        "id": "JbPZfiRgAHx0",
        "colab": {
          "base_uri": "https://localhost:8080/"
        },
        "outputId": "2ae7f3aa-9120-410b-e8b5-d30a2512e30b"
      },
      "source": [
        "my_name = 'George Joe Washington-Doe'\n",
        "\n",
        "# the counter is intialized to zero prior to starting the loop\n",
        "counter = 0\n",
        "\n",
        "for char in my_name:\n",
        "    if char not in [' ', '-']:\n",
        "        counter +=  1     # the counter is increased by 1 each time thru the loop\n",
        "\n",
        "# print(counter)\n",
        "\n",
        "# 1 is subtracted from counter below because the space was counted as a character\n",
        "print(f'The name, {my_name}, has {counter} letters in it.')"
      ],
      "execution_count": null,
      "outputs": [
        {
          "output_type": "stream",
          "text": [
            "The name, George Joe Washington-Doe, has 22 letters in it.\n"
          ],
          "name": "stdout"
        }
      ]
    },
    {
      "cell_type": "markdown",
      "metadata": {
        "id": "2fhKNCD6_3Hd"
      },
      "source": [
        "The following example shows the use of for loop to iterate over a list of numbers. In the body of for loop we are calculating the square of each number present in list and displaying the same."
      ]
    },
    {
      "cell_type": "code",
      "metadata": {
        "id": "UQrsvxXF9DgA"
      },
      "source": [
        "# Program to print squares of all numbers present in a list\n",
        "\n",
        "# List of integer numbers\n",
        "numbers = [1, 2, 4, 6, 11, 20]\n",
        "\n",
        "# variable to store the square of each num temporary\n",
        "sq = 0\n",
        "\n",
        "# iterating over the given list\n",
        "for val in numbers:\n",
        "    # calculating square of each number\n",
        "    sq = val**2\n",
        "\n",
        "    # displaying the squares\n",
        "    print(sq)"
      ],
      "execution_count": null,
      "outputs": []
    },
    {
      "cell_type": "markdown",
      "metadata": {
        "id": "Fl-A7wJD9zN0"
      },
      "source": [
        "# Function range()\n",
        "In the above example, we have iterated over a list using for loop. However we can also use a ***range()*** function in for loop to iterate over numbers defined by range().\n",
        "\n",
        "**range(n)**: generates a set of whole numbers starting from 0 to (n-1).\n",
        "For example:\n",
        "range(8) is equivalent to [0, 1, 2, 3, 4, 5, 6, 7]\n",
        "\n",
        "**range(start, stop)**: generates a set of whole numbers starting from start to stop-1.\n",
        "For example:\n",
        "range(5, 9) is equivalent to [5, 6, 7, 8]\n",
        "\n",
        "**range(start, stop, step_size)**: The default step_size is 1 which is why when we didn’t specify the step_size, the numbers generated are having difference of 1. However by specifying step_size we can generate numbers having the difference of step_size.\n",
        "\n",
        "For example:\n",
        "range(1, 10, 2) is equivalent to [1, 3, 5, 7, 9]\n",
        "\n",
        "Lets use the *range()* function in for loop:"
      ]
    },
    {
      "cell_type": "markdown",
      "metadata": {
        "id": "d4i8bF3o-F2Q"
      },
      "source": [
        "#Python for loop example using range() function\n",
        "\n"
      ]
    },
    {
      "cell_type": "markdown",
      "metadata": {
        "id": "F7L1rfDIEZxU"
      },
      "source": [
        "###Basic loop using range(n)\n",
        "Here range for loop prints number from 0 to 9. The *start* is 0 by default, *stop* is **NOT** inclusive."
      ]
    },
    {
      "cell_type": "code",
      "metadata": {
        "id": "HmTtZcPKEcjp"
      },
      "source": [
        "for value in range(10):\n",
        "  print(value)"
      ],
      "execution_count": null,
      "outputs": []
    },
    {
      "cell_type": "markdown",
      "metadata": {
        "id": "XM-Ubn9tDxtC"
      },
      "source": [
        "###Basic loop using range(start, stop)\n",
        "\n",
        "Include the *start* if other than 0. Here the output is 1 to 9."
      ]
    },
    {
      "cell_type": "code",
      "metadata": {
        "id": "ZkVknw0hD1LK"
      },
      "source": [
        "for value in range(1, 11):\n",
        "    print(value)"
      ],
      "execution_count": null,
      "outputs": []
    },
    {
      "cell_type": "markdown",
      "metadata": {
        "id": "yKAgpeH8FqD_"
      },
      "source": [
        "###Basic loop using range(start, stop, step)\n",
        "Here the output are the odds from 1 to 19. Notice the particular *start*, *stop*, and *step* to achieve this."
      ]
    },
    {
      "cell_type": "code",
      "metadata": {
        "id": "BH6K6bbhGOY-"
      },
      "source": [
        "for value in range(10, 0, -1):\n",
        "  print(value)"
      ],
      "execution_count": null,
      "outputs": []
    },
    {
      "cell_type": "markdown",
      "metadata": {
        "id": "uZvFLYiMDwRH"
      },
      "source": [
        "### A little more advanced example\n",
        "Here we are using range() function to calculate and display the sum of first 5 natural numbers."
      ]
    },
    {
      "cell_type": "code",
      "metadata": {
        "id": "Wuvi4Phy-Bd0"
      },
      "source": [
        "# Program to print the sum of first 5 natural numbers\n",
        "\n",
        "# variable to store the sum\n",
        "sum = 0\n",
        "\n",
        "# iterating over natural numbers using range()\n",
        "for val in range(1, 6):\n",
        "\n",
        "    # calculating sum\n",
        "    sum += val            # same as sum = sum + 1\n",
        "\n",
        "# displaying sum of first 5 natural numbers\n",
        "print(sum)"
      ],
      "execution_count": null,
      "outputs": []
    },
    {
      "cell_type": "markdown",
      "metadata": {
        "id": "7AHZwFv1IBET"
      },
      "source": [
        "# Combining conditionals and loops\n",
        "This example will be a repeat of a previous example, where we wanted the odd numbers less than 20. To do this, we want to use a conditional statement instead of using the range’s step parameter."
      ]
    },
    {
      "cell_type": "code",
      "metadata": {
        "id": "3Fw2LuTTIMCr"
      },
      "source": [
        "for value in range(20):\n",
        "  if value % 2 == 1:\n",
        "    print(value)"
      ],
      "execution_count": null,
      "outputs": []
    },
    {
      "cell_type": "markdown",
      "metadata": {
        "id": "2zWgz6RQI_zB"
      },
      "source": [
        "Hopefully you remember what’s up with the percent sign. If not recall that in Python, the % is called a **modulus operator**. When you use the modulus operator, it will return the **remainder**. The remainder is one when you divide an odd number by two, so we print those numbers out. "
      ]
    },
    {
      "cell_type": "markdown",
      "metadata": {
        "id": "Tjpu1sxnJxoC"
      },
      "source": [
        "# Break and Continue"
      ]
    },
    {
      "cell_type": "markdown",
      "metadata": {
        "id": "KWj_uuokJ1hm"
      },
      "source": [
        "## Break\n",
        "There may be times when a condition exists such that you want to end a loop before it is able to process all the elements of the container.  "
      ]
    },
    {
      "cell_type": "markdown",
      "metadata": {
        "id": "q6GhkYFyKlbu"
      },
      "source": [
        "### Example using Break\n",
        "The goal here is to iterate over a list of values looking for values that are multiples of 5 but if a negative number is encountered I want to stop."
      ]
    },
    {
      "cell_type": "code",
      "metadata": {
        "id": "18zHz8RCK4Um"
      },
      "source": [
        "number_list = [2, 0, 12, 15, 14, 25, 50, 64, 72, 90, -20, 30, 56, 45, 32, 67, 85]\n",
        "\n",
        "for number in number_list:\n",
        "  if number < 0:\n",
        "    break\n",
        "  elif number % 5 == 0:\n",
        "    print(number)"
      ],
      "execution_count": null,
      "outputs": []
    },
    {
      "cell_type": "markdown",
      "metadata": {
        "id": "1ct0FklJLtVn"
      },
      "source": [
        "## Continue\n",
        "There may be a condition that exists that will evaluate to True but you are not intersted in using. Can be thought of as \"skipping\" that value of the container."
      ]
    },
    {
      "cell_type": "markdown",
      "metadata": {
        "id": "eSDmgY6EMGMK"
      },
      "source": [
        "### Example of Continue\n",
        "The goal here will be the same as the last, except will just pass on negatives rather than end the loop."
      ]
    },
    {
      "cell_type": "code",
      "metadata": {
        "id": "ByZHkSfFMTTL"
      },
      "source": [
        "number_list = [2, 0, 12, 15, 14, 25, 50, 64, 72, 90, -20, 30, 56, 45, 32, 67, 85]\n",
        "\n",
        "for number in number_list:\n",
        "  if number < 0:\n",
        "    continue\n",
        "  elif number % 5 == 0:\n",
        "    print(number)"
      ],
      "execution_count": null,
      "outputs": []
    },
    {
      "cell_type": "markdown",
      "metadata": {
        "id": "nrJ1UJ2qrHse"
      },
      "source": [
        "Practice #1\n",
        "\n",
        "Print multiplication table, from 1 to 10, of a given number"
      ]
    },
    {
      "cell_type": "code",
      "metadata": {
        "id": "bWI4IuvGrKcj",
        "colab": {
          "base_uri": "https://localhost:8080/"
        },
        "outputId": "eea71499-b77a-47b4-e076-545650184944"
      },
      "source": [
        "# Practice 1\n",
        "\n",
        "given_numb = 5\n",
        "stop = 15\n",
        "\n",
        "print(f'number * {given_numb}\\tResult')\n",
        "\n",
        "for number in range(1, stop+1):\n",
        "    result = number * given_numb\n",
        "    print(f'{number} * {given_numb}\\t\\t{result}')"
      ],
      "execution_count": null,
      "outputs": [
        {
          "output_type": "stream",
          "text": [
            "number * 5\tResult\n",
            "1 * 5\t\t5\n",
            "2 * 5\t\t10\n",
            "3 * 5\t\t15\n",
            "4 * 5\t\t20\n",
            "5 * 5\t\t25\n",
            "6 * 5\t\t30\n",
            "7 * 5\t\t35\n",
            "8 * 5\t\t40\n",
            "9 * 5\t\t45\n",
            "10 * 5\t\t50\n",
            "11 * 5\t\t55\n",
            "12 * 5\t\t60\n",
            "13 * 5\t\t65\n",
            "14 * 5\t\t70\n",
            "15 * 5\t\t75\n"
          ],
          "name": "stdout"
        }
      ]
    },
    {
      "cell_type": "markdown",
      "metadata": {
        "id": "dsMU-V_0r3Iw"
      },
      "source": [
        "Practice #2\n",
        "\n",
        "Display numbers from -10 to -1 using for loop"
      ]
    },
    {
      "cell_type": "code",
      "metadata": {
        "id": "b1xrp-mgr5_2",
        "colab": {
          "base_uri": "https://localhost:8080/"
        },
        "outputId": "654992a8-8527-419f-be10-4a1c02d35634"
      },
      "source": [
        "# Practice 2\n",
        "\n",
        "for value in range(-10, 0):\n",
        "    print(value)"
      ],
      "execution_count": null,
      "outputs": [
        {
          "output_type": "stream",
          "text": [
            "-10\n",
            "-9\n",
            "-8\n",
            "-7\n",
            "-6\n",
            "-5\n",
            "-4\n",
            "-3\n",
            "-2\n",
            "-1\n"
          ],
          "name": "stdout"
        }
      ]
    },
    {
      "cell_type": "markdown",
      "metadata": {
        "id": "EbwHkEXXrhDU"
      },
      "source": [
        "Practice #3\n",
        "\n",
        "Given a number count the total number of digits in a number."
      ]
    },
    {
      "cell_type": "code",
      "metadata": {
        "id": "DKDlbL_VrkDE",
        "colab": {
          "base_uri": "https://localhost:8080/"
        },
        "outputId": "24896af0-2290-4616-d2c9-5dbbb86bbdf5"
      },
      "source": [
        "# Practice 3\n",
        "\n",
        "number3 = 56780\n",
        "str_number3 = str(number3)\n",
        "\n",
        "counter = 0\n",
        "\n",
        "for digit in str_number3:\n",
        "    counter += 1\n",
        "    \n",
        "print(counter)\n"
      ],
      "execution_count": null,
      "outputs": [
        {
          "output_type": "stream",
          "text": [
            "5\n"
          ],
          "name": "stdout"
        }
      ]
    },
    {
      "cell_type": "markdown",
      "metadata": {
        "id": "TXaGZiQbsX0R"
      },
      "source": [
        "Practice #4\n",
        "\n",
        "Reverse a given integer number."
      ]
    },
    {
      "cell_type": "code",
      "metadata": {
        "id": "EnzafX55sbUh"
      },
      "source": [
        "# Practice 4\n"
      ],
      "execution_count": null,
      "outputs": []
    }
  ]
}