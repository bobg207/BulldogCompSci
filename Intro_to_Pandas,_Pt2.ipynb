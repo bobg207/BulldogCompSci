{
  "nbformat": 4,
  "nbformat_minor": 0,
  "metadata": {
    "colab": {
      "provenance": [],
      "authorship_tag": "ABX9TyOch39aOOFqHl8IqxK+icXN",
      "include_colab_link": true
    },
    "kernelspec": {
      "name": "python3",
      "display_name": "Python 3"
    },
    "language_info": {
      "name": "python"
    }
  },
  "cells": [
    {
      "cell_type": "markdown",
      "metadata": {
        "id": "view-in-github",
        "colab_type": "text"
      },
      "source": [
        "<a href=\"https://colab.research.google.com/github/bobg207/BulldogCompSci/blob/master/Intro_to_Pandas%2C_Pt2.ipynb\" target=\"_parent\"><img src=\"https://colab.research.google.com/assets/colab-badge.svg\" alt=\"Open In Colab\"/></a>"
      ]
    },
    {
      "cell_type": "markdown",
      "source": [
        "# Reading Data from file\n",
        "\n",
        "\n",
        "1.   Load the data file from your Google Drive\n",
        "\n",
        "\n",
        "        from google.colab import drive \n",
        "        drive.mount('/content/drive')\n",
        "        path = '/content/drive/My Drive/Colab Notebooks/PortlandWeather2013b.txt'\n",
        "\n",
        "\n",
        "2.   read the data using the pandas `.read_csv(file_name)` method\n",
        "\n",
        "\n",
        "        wx_df = pd.read_csv(path)\n",
        "\n",
        "\n",
        "3.   If passing in a `.txt` file you'll need to also include the argument - `delim_whitespace = True` -  so that the file is split on whitespace rather than commas (by default)\n",
        "\n",
        "\n",
        "        wx_df = pd.read_csv(path, delim_whitespace = True)\n",
        "\n"
      ],
      "metadata": {
        "id": "EwNSvosYaId0"
      }
    },
    {
      "cell_type": "code",
      "execution_count": null,
      "metadata": {
        "id": "bFJaUK_PaD6J"
      },
      "outputs": [],
      "source": [
        "from google.colab import drive \n",
        "drive.mount('/content/drive')\n",
        "path = '/content/drive/My Drive/Colab Notebooks/PortlandWeather2013b.txt'"
      ]
    },
    {
      "cell_type": "code",
      "source": [
        "import pandas as pd\n",
        "import matplotlib.pyplot as plt\n",
        "import numpy as np\n",
        "\n",
        "wx_df = pd.read_csv(path, delim_whitespace = True)\n",
        "wx_df"
      ],
      "metadata": {
        "id": "kWMNPMUyffRN"
      },
      "execution_count": null,
      "outputs": []
    },
    {
      "cell_type": "markdown",
      "source": [
        "# Clean Data \n"
      ],
      "metadata": {
        "id": "g8FFysnRf4x5"
      }
    },
    {
      "cell_type": "markdown",
      "source": [
        "## Data Types\n",
        "Know the data-types contained in the data frame"
      ],
      "metadata": {
        "id": "eC5OseHSiO3h"
      }
    },
    {
      "cell_type": "code",
      "source": [
        "# use pandas to display the data-types of the data contained in the dataframe\n"
      ],
      "metadata": {
        "id": "SpoqDmSIiad_"
      },
      "execution_count": null,
      "outputs": []
    },
    {
      "cell_type": "markdown",
      "source": [
        "## Column Cleanup\n",
        "\n",
        "\n",
        "1.   Get columns\n",
        "\n",
        "          og_df.columns\n",
        "\n",
        "\n",
        "2.   Change column names\n",
        "        \n",
        "        A. replace all column names with a list\n",
        "              og_df.columns = ['station', 'date', 'prcp', 'snwd', 'snow', 'tmax', 'tmin']    # typing out a list of replacement values\n",
        "\n",
        "              og_df.columns = [col.lower() for col in og_df]   # using list comprehension\n",
        "        C. format names using `.str` method along with `.strip( )` for whitespace removal; `.lower( )` for case changes; `.replace(old, new)` to replace one char for another\n",
        "              og_df.columns = og_df.columns.str.lower()  # change every column name to lower case\n",
        "\n",
        "\n",
        "3.   Delete Columns\n",
        "\n",
        "      temporarily\n",
        "          og_df.drop([col1, col2, ...], axis=1)   # axis = 1 is a reference to columns\n",
        "      \n",
        "      permantly -> add `inplace=True`\n",
        "\n",
        "          og_df.drop([col1, col2, ...], axis=1, inplace = True)\n",
        "      \n",
        "      else -> make a copy of original df then drop the cols of that\n",
        "        \n",
        "          new_df = wx_df.copy()\n",
        "          new_df.drop([col1, col2, ...], axis=1, inplace=True)\n",
        "\n",
        "4.   Add new column\n",
        "\n",
        "          new_df[col_name] = values (must match length of dataframe)\n",
        "\n",
        "5.   Replace indices\n",
        "\n",
        "          new_df.set_index(col_name, inplace=True)\n"
      ],
      "metadata": {
        "id": "t2V6TvbUgClT"
      }
    },
    {
      "cell_type": "code",
      "source": [
        "wx_df.columns = wx_df.columns.str.lower()\n",
        "wx_df.drop(['station'], axis=1, inplace=True)\n",
        "wx_df"
      ],
      "metadata": {
        "id": "k0x8k4VCf7jy"
      },
      "execution_count": null,
      "outputs": []
    },
    {
      "cell_type": "markdown",
      "source": [
        "## Row Cleanup"
      ],
      "metadata": {
        "id": "16UOzxg8s_xg"
      }
    },
    {
      "cell_type": "markdown",
      "source": [
        "### Delete Rows\n",
        "\n",
        "Use `.drop( )` on the dataframe with axis 0 (rows)\n",
        "\n",
        "            og_df.drop(row(s), axis=0, inplace=True)\n",
        "\n",
        "When deleting rows the indices for those rows are also deleted.  It may be desirable to reset the indices.\n",
        "\n",
        "\n",
        "A. First make a Pandas series with the values of the indices desired (make sure to import Numpy)\n",
        "\n",
        "            new_indices = pd.Series(np.arange(start, stop)))\n",
        "\n",
        "B. Use `.set_index( )` on the dataframe\n",
        "\n",
        "            og_df.set_index(new_indices, inplace=True)"
      ],
      "metadata": {
        "id": "A21h_snltG-y"
      }
    },
    {
      "cell_type": "code",
      "source": [
        "# drop the first row as it doesn't contain any data, then reset the indices\n"
      ],
      "metadata": {
        "id": "1ae9y8gAtSfD"
      },
      "execution_count": null,
      "outputs": []
    },
    {
      "cell_type": "markdown",
      "source": [
        "### Changing Data"
      ],
      "metadata": {
        "id": "NYlIyAb3tTqH"
      }
    },
    {
      "cell_type": "markdown",
      "source": [
        "#### Changing data-types \n",
        "\n",
        "    using `.astype(dtype)`\n",
        "      \n",
        "      og_df[col] = og_df[col].astype(dtype)   # object, int, float"
      ],
      "metadata": {
        "id": "rwpIiUsZ-Brf"
      }
    },
    {
      "cell_type": "code",
      "source": [
        "# change the data type of snwd column to int32, use .info() to see the change\n"
      ],
      "metadata": {
        "id": "GMnp6kGPursk"
      },
      "execution_count": null,
      "outputs": []
    },
    {
      "cell_type": "code",
      "source": [
        "# your turn\n",
        "# change the data types of the other columns\n",
        "# to the appropriate data type\n"
      ],
      "metadata": {
        "id": "IFkCmcvM819M"
      },
      "execution_count": null,
      "outputs": []
    },
    {
      "cell_type": "markdown",
      "source": [
        "#### Changing Data Values (Single Column)\n",
        "\n",
        "Similar to changing data types, you can add any expression to the right side of the = \n",
        "\n",
        "        og_df[col] = a * og_df[col] + b.   # example of random conversion relationship"
      ],
      "metadata": {
        "id": "4rpHWIDL94Ri"
      }
    },
    {
      "cell_type": "code",
      "source": [
        "# convert snwd to inches -> mm divided by 25.4\n"
      ],
      "metadata": {
        "id": "Mlei3MHCAFnO"
      },
      "execution_count": null,
      "outputs": []
    },
    {
      "cell_type": "code",
      "source": [
        "# your turn\n",
        "# change the snow and prcp columns from mm to inches\n"
      ],
      "metadata": {
        "id": "Y2H7vdnrDAeA"
      },
      "execution_count": null,
      "outputs": []
    },
    {
      "cell_type": "markdown",
      "source": [
        "#### Changing Data Values (Multiple Columns)\n",
        "\n",
        "Same as single row except notice that the columns to be changed are placed in a list\n",
        "\n",
        "        og_df[[col1, col2, ...]] = a * og_df[[col1, col2, ...]] + b.   # example of random conversion relationship"
      ],
      "metadata": {
        "id": "4RfugJ8qHZGw"
      }
    },
    {
      "cell_type": "code",
      "source": [
        "# your turn\n",
        "# change the tmax and tmin columns to Fahrenheit\n"
      ],
      "metadata": {
        "id": "LGVoWe6lIA_l"
      },
      "execution_count": null,
      "outputs": []
    },
    {
      "cell_type": "markdown",
      "source": [
        "#### Changing Data Values (Single Cell)\n",
        "\n"
      ],
      "metadata": {
        "id": "w3-EOo851meF"
      }
    },
    {
      "cell_type": "markdown",
      "source": [
        "## Adding Data"
      ],
      "metadata": {
        "id": "B1mABZ9nO0vj"
      }
    },
    {
      "cell_type": "markdown",
      "source": [
        "#### New column filled with data\n",
        "\n",
        "        og_df[col_name] = value (or expression to calculate a value)"
      ],
      "metadata": {
        "id": "_hsL5M3LPFRz"
      }
    },
    {
      "cell_type": "code",
      "source": [
        "# your turn\n",
        "# replace the last values of the snow and snwd columns with an appropriate value\n",
        "# do this by using the value from the previous row for each\n",
        "# use .tail() to show the changes have been made\n"
      ],
      "metadata": {
        "id": "gdZ3ft-s_TiG"
      },
      "execution_count": null,
      "outputs": []
    },
    {
      "cell_type": "code",
      "source": [
        "# your turn\n",
        "# make a new column \"avg_temp\" that contains the avg daily temperature \n",
        "# (use tmax and tmin cols) for each day\n",
        "# use .head() to show the changes have been made\n"
      ],
      "metadata": {
        "id": "samAaRgQLyUP"
      },
      "execution_count": null,
      "outputs": []
    },
    {
      "cell_type": "markdown",
      "source": [
        "## Handling Missing Data\n",
        "\n",
        "\n",
        "Drop rows with any column having NA/null data.\n",
        "        \n",
        "        df.dropna()\n",
        "\n",
        "\n",
        "Replace all NA/null data with value\n",
        "\n",
        "        df.fillna(value)\n"
      ],
      "metadata": {
        "id": "HulNOSGf-c4d"
      }
    },
    {
      "cell_type": "markdown",
      "source": [
        "## DateTime"
      ],
      "metadata": {
        "id": "AC38MnC3-_Fb"
      }
    },
    {
      "cell_type": "markdown",
      "source": [
        "### Panda's Date Object to DateTime\n",
        "\n",
        "According to `og_df.info()` above, the data type of the **date** column is an object, which means the timestamps are stored as string values. To convert the data type of the datetime column from a string object to a datetime64 object, we can use the pandas to_datetime() method, as follows:\n",
        "\n",
        "        of_df['date'] = pd.to_datetime(og_df['date'])"
      ],
      "metadata": {
        "id": "SLY8Yfmp_XHV"
      }
    },
    {
      "cell_type": "code",
      "source": [
        "# change the values in the date column to datetime objects\n",
        "# run wx_df.info() to verify that they are now datetime objects\n"
      ],
      "metadata": {
        "id": "VtGmJdTX-gQ3"
      },
      "execution_count": null,
      "outputs": []
    },
    {
      "cell_type": "markdown",
      "source": [
        "Now, the data type of the datetime column should be a **datetime64[ns]** object. The **[ns]** means the nano second-based time format that specifies the precision of the DateTime object."
      ],
      "metadata": {
        "id": "0TJTUdbFAobX"
      }
    },
    {
      "cell_type": "markdown",
      "source": [
        "### Change to DateTime when Loading Data\n",
        "\n",
        "Also, we can let the pandas **`read_csv()`** method parse certain columns as **DataTime** objects, which is more straightforward than using the **`to_datetime()`** method. \n",
        "\n",
        "        df = pd.read_csv(file_path, parse_dates=['date'])\n",
        "        df.head() "
      ],
      "metadata": {
        "id": "5C8fPo9iIovF"
      }
    },
    {
      "cell_type": "markdown",
      "source": [
        "### Get year, month, and day\n",
        "**`dt.year`**, **`dt.month`** and **`dt.day`** are the inbuilt attributes to get year, month , and day from Pandas datetime object.\n",
        "\n",
        "And to get year, month, and day\n",
        "\n",
        "        og_df['year']= og_df['date'].dt.year\n",
        "        og_df['month']= og_df['date'].dt.month\n",
        "        og_df['day']= og_df['date'].dt.day"
      ],
      "metadata": {
        "id": "wnJAQX5nCkcM"
      }
    },
    {
      "cell_type": "code",
      "source": [
        "# your turn\n",
        "# Add 'month' and 'day' columns and fill them with the correct values\n",
        "# use og_df.sample(n=10) to display 10 randomly chosen rows\n"
      ],
      "metadata": {
        "id": "PM2yhDg0I0A3"
      },
      "execution_count": null,
      "outputs": []
    },
    {
      "cell_type": "code",
      "source": [
        "# your turn\n",
        "# using wx_df create 2 python lists containing the average max/min temps for each month"
      ],
      "metadata": {
        "id": "ydO22AIUVqpw"
      },
      "execution_count": null,
      "outputs": []
    },
    {
      "cell_type": "markdown",
      "source": [
        "## Plotting Side-by-Side Bar Graphs\n",
        "\n",
        "In **`plt.bar( )`** make sure to adjust the list names for the temps to match what you used above"
      ],
      "metadata": {
        "id": "HEaaHKZeXA57"
      }
    },
    {
      "cell_type": "code",
      "source": [
        "month_names = ['January', 'February', 'March', 'April', 'May',\n",
        "          'June', 'July', 'August', 'September', 'October', \n",
        "          'November', 'December']\n",
        "\n",
        "# array of numerical values for months to be used in intial bargraph\n",
        "# needed to be able to move the bars\n",
        "x_indices = np.arange(1, len(month_names)+1)\n",
        "\n",
        "# standard bar width is .8, set a width a little less than width divided by the \n",
        "# number of bars\n",
        "width = .39\n",
        "shift = width / 2\n",
        "\n",
        "plt.style.use('seaborn')\n",
        "\n",
        "# x-values, for graphing purposes, are goind to be the indices array +/- the shift\n",
        "plt.bar(x_indices+shift, max_avgs, width=width, color='orangered', label=\"High Temps\")\n",
        "plt.bar(x_indices-shift, min_avgs, width=width, color='deepskyblue', label=\"Low Temps\")\n",
        "plt.legend()\n",
        "plt.title(\"Average Hi/Low Temps\\nPortland, ME - 2013\")\n",
        "plt.xlabel(\"Months\")\n",
        "plt.ylabel(\"Temperature (F)\")\n",
        "\n",
        "# convert the x-values into the names and rotate\n",
        "# ticks = current xtick values\n",
        "# labels = values to be changed to\n",
        "plt.xticks(ticks=x_indices, labels=month_names, rotation=60)\n",
        "\n",
        "plt.show()"
      ],
      "metadata": {
        "id": "lzyB48HqXByP"
      },
      "execution_count": null,
      "outputs": []
    }
  ]
}