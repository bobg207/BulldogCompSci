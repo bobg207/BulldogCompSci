{
  "nbformat": 4,
  "nbformat_minor": 0,
  "metadata": {
    "colab": {
      "name": "code_test.ipynb",
      "provenance": [],
      "include_colab_link": true
    },
    "kernelspec": {
      "name": "python3",
      "display_name": "Python 3"
    }
  },
  "cells": [
    {
      "cell_type": "markdown",
      "metadata": {
        "id": "view-in-github",
        "colab_type": "text"
      },
      "source": [
        "<a href=\"https://colab.research.google.com/github/bobg207/BulldogCompSci/blob/master/code_test.ipynb\" target=\"_parent\"><img src=\"https://colab.research.google.com/assets/colab-badge.svg\" alt=\"Open In Colab\"/></a>"
      ]
    },
    {
      "cell_type": "code",
      "metadata": {
        "id": "tGGDgHAzSb7H",
        "outputId": "342bde42-5635-475e-fd6f-421208a4659d",
        "colab": {
          "base_uri": "https://localhost:8080/",
          "height": 34
        }
      },
      "source": [
        "class quad:\n",
        "\n",
        "  qu = 0\n",
        "\n",
        "  def __init__(self,a,b=0,c=0):\n",
        "    self.a = a\n",
        "    self.b = b\n",
        "    self.c = c\n",
        "    quad.qu += 1\n",
        "    self.q_num = quad.qu\n",
        "\n",
        "  def value(self,x):\n",
        "    return (self.a)*(x**2) + (self.b * x) + self.c\n",
        "\n",
        "  def table(self,start,end):\n",
        "    print('x      f(x)')\n",
        "    for vals in range(start,end):\n",
        "      value = (self.a)*(vals**2) + (self.b * vals) + self.c\n",
        "      print(vals,'   ',value)\n",
        "\n",
        "  def roots(self):\n",
        "    root1 = (-self.b + (self.b**2 - 4*self.a*self.c)**(1/2)) / (2*self.a) \n",
        "    root2 = (-self.b - (self.b**2 - 4*self.a*self.c)**(1/2)) / (2*self.a)\n",
        "    return root1, root2\n",
        "\n",
        "q = quad(2,16,36)\n",
        "q2 = quad(1, 2, 3)\n",
        "q3 = quad(3, 2, 3)\n",
        "print(q2.q_num)"
      ],
      "execution_count": null,
      "outputs": [
        {
          "output_type": "stream",
          "text": [
            "2\n"
          ],
          "name": "stdout"
        }
      ]
    }
  ]
}