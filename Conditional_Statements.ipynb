{
  "nbformat": 4,
  "nbformat_minor": 0,
  "metadata": {
    "colab": {
      "name": "Conditional_Statements.ipynb",
      "provenance": [],
      "collapsed_sections": [],
      "include_colab_link": true
    },
    "kernelspec": {
      "name": "python3",
      "display_name": "Python 3"
    }
  },
  "cells": [
    {
      "cell_type": "markdown",
      "metadata": {
        "id": "view-in-github",
        "colab_type": "text"
      },
      "source": [
        "<a href=\"https://colab.research.google.com/github/bobg207/BulldogCompSci/blob/master/Conditional_Statements.ipynb\" target=\"_parent\"><img src=\"https://colab.research.google.com/assets/colab-badge.svg\" alt=\"Open In Colab\"/></a>"
      ]
    },
    {
      "cell_type": "markdown",
      "metadata": {
        "id": "ciqDUmKjaQ6X"
      },
      "source": [
        "# Conditional Statements\n",
        "\n",
        "In the real world, we commonly must evaluate information around us and then choose one course of action or another based on what we observe:\n",
        "\n",
        "    If the weather is nice, then I’ll mow the lawn. \n",
        "\n",
        "**Note**\n",
        "\n",
        "    It’s implied that if the weather isn’t nice, then I won’t mow the lawn.\n",
        "\n",
        "In a Python program, the ***if*** statement is how you perform this sort of decision-making. It allows for conditional execution of a statement or group of statements based on the value of an expression."
      ]
    },
    {
      "cell_type": "markdown",
      "metadata": {
        "id": "tcLn2XgKbCNc"
      },
      "source": [
        "# Introduction to the if Statement\n",
        "\n",
        "We’ll start by looking at the most basic type of if statement. In its simplest form, it looks like this:\n",
        "\n",
        "    if <expr>:\n",
        "        <statement>\n",
        "In the form shown above:\n",
        "\n",
        "***\\<expr\\>*** is an expression evaluated in Boolean context, as discussed in the section on Logical Operators in the Operators and Expressions in Python tutorial.\n",
        "\n",
        "***\\<statement>*** is a valid Python statement, which must be indented. (You will see why very soon.)\n",
        "If <expr> is true (evaluates to a value that is “truthy”), then <statement> is executed. If <expr> is false, then <statement> is skipped over and not executed.\n",
        "\n",
        "Note that the colon (**:**) following \\<expr> is required. Some programming languages require \\<expr> to be enclosed in parentheses, but Python does not.\n",
        "\n",
        "Here are several examples of this type of if statement:"
      ]
    },
    {
      "cell_type": "code",
      "metadata": {
        "id": "H_7qe64Fbc5Y",
        "colab": {
          "base_uri": "https://localhost:8080/"
        },
        "outputId": "47f7bc2a-f7c9-4571-e1ca-1287b36e1e50"
      },
      "source": [
        "# boolean - data type for values of True or False\n",
        "\n",
        "x = 0\n",
        "y = 0\n",
        "\n",
        "# if x == y:\n",
        "#  print('#1 yes')\n",
        "\n",
        "# if y < x:\n",
        "#  print('#2 yes')\n",
        "\n",
        "if x:\n",
        "  print('x is true')\n",
        "else:\n",
        "  print('x is false')\n",
        "\n",
        "if y:\n",
        "  print('y is true')\n",
        "else:\n",
        "  print('y is false')\n",
        "\n",
        "# if x or y:\n",
        "#   print('#5 yes')\n",
        "\n",
        "if x and y:\n",
        "  print('#6 yes')\n",
        "\n",
        "# if 'aul' in 'grault':\n",
        "#   print('#7 yes')\n",
        "\n",
        "# if 'aul' in ['foo', 'bar', 'grault']:\n",
        "#   print('#8 yes')"
      ],
      "execution_count": null,
      "outputs": [
        {
          "output_type": "stream",
          "text": [
            "x is false\n",
            "y is false\n"
          ],
          "name": "stdout"
        }
      ]
    },
    {
      "cell_type": "markdown",
      "metadata": {
        "id": "xckVw3E8cmuz"
      },
      "source": [
        "# Grouping Statements: Indentation and Blocks\n",
        "So far, so good.\n",
        "\n",
        "But let’s say you want to evaluate a condition and then do more than one thing if it is true:\n",
        "\n",
        "    If the weather is nice, then I will:\n",
        "\n",
        "        Mow the lawn\n",
        "        Weed the garden\n",
        "        Take the dog for a walk\n",
        "\n",
        "    (If the weather isn’t nice, then I won’t do any of these things.)\n",
        "\n",
        "In all the examples shown above, each **if \\<expr>:** has been followed by only a single **\\<statement>**. There needs to be some way to say “If **\\<expr>** is true, do all of the following things.”\n",
        "\n",
        "The usual approach taken by most programming languages is to define a syntactic device that groups multiple statements into one compound statement or block. A block is regarded syntactically as a single entity. When it is the target of an **if** statement, and **\\<expr>** is **true**, then all the statements in the block are executed. If **\\<expr>** is **false**, then none of them are.\n",
        "\n",
        "Virtually all programming languages provide the capability to define blocks, but they don’t all provide it in the same way. Let’s see how Python does it."
      ]
    },
    {
      "cell_type": "markdown",
      "metadata": {
        "id": "sOXE4pgeepKL"
      },
      "source": [
        "# Python: It’s All About the Indentation\n",
        "Python follows a convention known as the off-side rule, a term coined by British computer scientist Peter J. Landin. (The term is taken from the offside law in association football.) Languages that adhere to the off-side rule define blocks by indentation. Python is one of a relatively small set of off-side rule languages.\n",
        "\n",
        "Indentation has special significance in a Python program. Now you know why: indentation is used to define compound statements or blocks. In a Python program, contiguous statements that are indented to the same level are considered to be part of the same block.\n",
        "\n",
        "Thus, a compound if statement in Python looks like this:\n",
        "\n",
        "    if <expr>:\n",
        "        <statement>\n",
        "        <statement>\n",
        "        ...\n",
        "        <statement>\n",
        "    <following_statement>\n",
        "\n",
        "Here, all the statements at the matching indentation level (lines 2 to 5) are considered part of the same block. The entire block is executed if **\\<expr>** is **true**, or skipped over if **\\<expr>** is **false**. Either way, execution proceeds with <following_statement> (line 6) afterward.\n",
        "\n",
        "Consider the following example:"
      ]
    },
    {
      "cell_type": "code",
      "metadata": {
        "id": "bBkm_hBRaEMh",
        "colab": {
          "base_uri": "https://localhost:8080/"
        },
        "outputId": "43a2163e-c241-4763-d712-685c03913262"
      },
      "source": [
        "if 'aul' in ['bar', 'baz', 'qux']:\n",
        "    print('Expression was true')\n",
        "    print('Executing statement in suite')\n",
        "    print('...')\n",
        "    print('Done.')\n",
        "print('After conditional')"
      ],
      "execution_count": null,
      "outputs": [
        {
          "output_type": "stream",
          "text": [
            "After conditional\n"
          ],
          "name": "stdout"
        }
      ]
    },
    {
      "cell_type": "markdown",
      "metadata": {
        "id": "NJQECBV0fWYr"
      },
      "source": [
        "The four **print()** statements on lines 2 to 5 are indented to the same level as one another. They constitute the block that would be executed if the condition were true. But it is false, so all the statements in the block are skipped. After the end of the compound if statement has been reached (whether the statements in the block on lines 2 to 5 are executed or not), execution proceeds to the first statement having a lesser indentation level: the print() statement on line 6.\n",
        "\n",
        "Blocks can be **nested** to arbitrary depth. Each indent defines a new block, and each outdent ends the preceding block. The resulting structure is straightforward, consistent, and intuitive.\n",
        "\n",
        "Here is a more complicated script:"
      ]
    },
    {
      "cell_type": "code",
      "metadata": {
        "id": "jDmVRGsQfj9u"
      },
      "source": [
        "# Does line execute?                        Yes    No\n",
        "#                                           ---    --\n",
        "# if 'foo' in ['foo', 'bar', 'baz']:        #  x\n",
        "#     print('Outer condition is true')      #  x\n",
        "\n",
        "#     if 10 > 20:                           #  x\n",
        "#         print('Inner condition 1')        #        x\n",
        "\n",
        "#     print('Between inner conditions')     #  x\n",
        "\n",
        "#     # if 10 < 20:                           #  x\n",
        "#     #     print('Inner condition 2')        #  x\n",
        "\n",
        "#     print('End of outer condition')       #  x\n",
        "# print('After outer condition') \n"
      ],
      "execution_count": null,
      "outputs": []
    },
    {
      "cell_type": "markdown",
      "metadata": {
        "id": "R03HRSj5fqsZ"
      },
      "source": [
        "# The else and elif Clauses\n",
        "Now you know how to use an **if** statement to conditionally execute a single statement or a block of several statements. It’s time to find out what else you can do.\n",
        "\n",
        "Sometimes, you want to evaluate a condition and take one path if it is true but specify an alternative path if it is not. This is accomplished with an else clause:\n",
        "\n",
        "    if <expr>:\n",
        "        <statement(s)>\n",
        "    else:\n",
        "        <statement(s)>\n",
        "If **\\<expr>** is **true**, the first suite is executed, and the second is skipped. If **\\<expr>** is **false**, the first suite is skipped and the second is executed. Either way, execution then resumes after the second suite. Both suites are defined by indentation, as described above.\n",
        "\n",
        "In this example, x is less than 50, so the first suite (lines 4 to 5) are executed, and the second suite (lines 7 to 8) are skipped:"
      ]
    },
    {
      "cell_type": "code",
      "metadata": {
        "id": "rgu4TrcSf-q7"
      },
      "source": [
        "x = 20\n",
        "\n",
        "if x < 50:\n",
        "  print('(first suite)')\n",
        "  print('x is small')\n",
        "else:\n",
        "  print('(second suite)')\n",
        "  print('x is large')"
      ],
      "execution_count": null,
      "outputs": []
    },
    {
      "cell_type": "markdown",
      "metadata": {
        "id": "_bgsWeNXgHUD"
      },
      "source": [
        "Change the value of x to 120 and rerun the code.\n",
        "\n",
        "Here x is greater than 50, so the first suite is passed over, and the second suite executed:"
      ]
    },
    {
      "cell_type": "markdown",
      "metadata": {
        "id": "KSbc6XFAgZBl"
      },
      "source": [
        "There is also syntax for branching execution based on several alternatives. For this, use one or more **elif** (short for else if) clauses. Python evaluates each **\\<expr>** in turn and executes the suite corresponding to the first that is true. If none of the expressions are true, and an **else** clause is specified, then its suite is executed:\n",
        "\n",
        "    if <expr>:\n",
        "        <statement(s)>\n",
        "    elif <expr>:\n",
        "        <statement(s)>\n",
        "    elif <expr>:\n",
        "        <statement(s)>\n",
        "        ...\n",
        "    else:\n",
        "        <statement(s)>\n",
        "\n",
        "An arbitrary number of **elif** clauses can be specified. The **else** clause is optional. If it is present, there can be only one, and it must be specified last:"
      ]
    },
    {
      "cell_type": "code",
      "metadata": {
        "id": "zlEwY8KCg8os"
      },
      "source": [
        "name = 'Xander'\n",
        "\n",
        "if name == 'Fred':\n",
        "  print('Hello Fred')\n",
        "elif name == 'Xander':\n",
        "  print('Hello Xander')\n",
        "elif name == 'Joe':\n",
        "  print('Hello Joe')\n",
        "elif name == 'Arnold':\n",
        "  print('Hello Arnold')\n",
        "else:\n",
        "  print(\"I don't know who you are!\")\n",
        "\n",
        "print('This gets executed afterward')"
      ],
      "execution_count": null,
      "outputs": []
    },
    {
      "cell_type": "markdown",
      "metadata": {
        "id": "MmduHljFhWVE"
      },
      "source": [
        "At most, one of the code blocks specified will be executed. If an **else** clause isn’t included, and all the conditions are false, then none of the blocks will be executed."
      ]
    },
    {
      "cell_type": "markdown",
      "metadata": {
        "id": "eBWX8H9fJbq4"
      },
      "source": [
        "Practice #1\n",
        "\n",
        "Write a function that takes an integer as a parameter and returns whether the value is positive, negative, or zero."
      ]
    },
    {
      "cell_type": "code",
      "metadata": {
        "id": "sdHxI_2mJsbh",
        "colab": {
          "base_uri": "https://localhost:8080/"
        },
        "outputId": "1b3cf826-a91b-438b-e6c2-d9a0df0f7c4b"
      },
      "source": [
        "# Practice #1\n",
        "import math\n",
        "\n",
        "def integer_sign(number):\n",
        "    if number > 0:\n",
        "        # print('positive')\n",
        "        return 'positive'\n",
        "    elif number == 0:\n",
        "        # print('zero')\n",
        "        return 'zero'\n",
        "    else:\n",
        "        # print('negative')\n",
        "        return 'negative'\n",
        "\n",
        "################################################################################\n",
        "################################################################################\n",
        "\n",
        "test_number = -16\n",
        "\n",
        "if integer_sign(test_number) == 'positive' or integer_sign(test_number) == 'zero':\n",
        "    print(math.sqrt(test_number))\n",
        "else:\n",
        "    print('that is an invalid number')\n"
      ],
      "execution_count": null,
      "outputs": [
        {
          "output_type": "stream",
          "text": [
            "that is an invalid number\n"
          ],
          "name": "stdout"
        }
      ]
    },
    {
      "cell_type": "markdown",
      "metadata": {
        "id": "K-zAQirsJvej"
      },
      "source": [
        "Practice #2\n",
        "\n",
        "Write a function that takes an integer as a parameter and returns whether the value is divisible by 5 and 11."
      ]
    },
    {
      "cell_type": "code",
      "metadata": {
        "id": "rlUs3um_J5sP",
        "colab": {
          "base_uri": "https://localhost:8080/"
        },
        "outputId": "46911d91-c4cd-482b-98d7-4e2e5e8f5365"
      },
      "source": [
        "# Practice #2\n",
        "\n",
        "# if some number is divisible by 5 and some number is divisible by 11\n",
        "# return True\n",
        "# else\n",
        "# return False\n",
        "\n",
        "def is_divisible(number):\n",
        "    if number % 5 == 0 and number % 11 == 0:\n",
        "        return True\n",
        "    else:\n",
        "        return False\n",
        "\n",
        "test_value2 = 55\n",
        "output2 = is_divisible(test_value2)\n",
        "print(output2)\n"
      ],
      "execution_count": null,
      "outputs": [
        {
          "output_type": "stream",
          "text": [
            "True\n"
          ],
          "name": "stdout"
        }
      ]
    },
    {
      "cell_type": "markdown",
      "metadata": {
        "id": "fB2hQPAcJ7Z9"
      },
      "source": [
        "Practice #3\n",
        "\n",
        "Write a function that takes a character and returns whether the char is alpha or not."
      ]
    },
    {
      "cell_type": "code",
      "metadata": {
        "id": "wqYm_BIwKRCZ",
        "colab": {
          "base_uri": "https://localhost:8080/"
        },
        "outputId": "6c951f64-1033-4e10-bd25-ba51671cbddc"
      },
      "source": [
        "# Practice #3\n",
        "\n",
        "def is_alpha(char):\n",
        "    if (char >= 'a' and char <= 'z') or (char >= 'A' and char <= 'Z'):\n",
        "        return True\n",
        "    else:\n",
        "        return False\n",
        "\n",
        "test_char = '+'\n",
        "output3 = is_alpha(test_char)\n",
        "print(output3)\n",
        "\n"
      ],
      "execution_count": null,
      "outputs": [
        {
          "output_type": "stream",
          "text": [
            "False\n"
          ],
          "name": "stdout"
        }
      ]
    },
    {
      "cell_type": "markdown",
      "metadata": {
        "id": "6GVpLzUyK-g2"
      },
      "source": [
        "Practice #4\n",
        "\n",
        "Write a function that takes a char and returns whether the char is a vowel or not."
      ]
    },
    {
      "cell_type": "code",
      "metadata": {
        "id": "zo_1tStnK8us"
      },
      "source": [
        "# Practice #4"
      ],
      "execution_count": null,
      "outputs": []
    }
  ]
}