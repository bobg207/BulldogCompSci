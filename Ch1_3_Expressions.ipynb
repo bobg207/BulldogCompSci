{
  "nbformat": 4,
  "nbformat_minor": 0,
  "metadata": {
    "colab": {
      "name": "Ch2-3_Expressions.ipynb",
      "provenance": [],
      "include_colab_link": true
    },
    "kernelspec": {
      "name": "python3",
      "display_name": "Python 3"
    }
  },
  "cells": [
    {
      "cell_type": "markdown",
      "metadata": {
        "id": "view-in-github",
        "colab_type": "text"
      },
      "source": [
        "<a href=\"https://colab.research.google.com/github/bobg207/BulldogCompSci/blob/master/Ch1_3_Expressions.ipynb\" target=\"_parent\"><img src=\"https://colab.research.google.com/assets/colab-badge.svg\" alt=\"Open In Colab\"/></a>"
      ]
    },
    {
      "cell_type": "markdown",
      "metadata": {
        "id": "AOGoliVkq9i6"
      },
      "source": [
        "A **statement** is an instruction that the Python interpreter can execute. We have only seen the assignment statement so far. Some other kinds of statements that we’ll see shortly are *while* statements, *for* statements, *if* statements, and *import* statements. (There are other kinds too!)\n",
        "\n",
        "An expression is a combination of values, variables, operators, and calls to functions. Expressions need to be evaluated. If you ask Python to *print* an expression, the interpreter **evaluates** the expression and displays the result."
      ]
    },
    {
      "cell_type": "code",
      "metadata": {
        "id": "h5Ow4Kgvq3cT"
      },
      "source": [
        "print(1 + 1)\n",
        "print(len(\"hello\"))"
      ],
      "execution_count": null,
      "outputs": []
    },
    {
      "cell_type": "markdown",
      "metadata": {
        "id": "k-_gqj8KrSBk"
      },
      "source": [
        "In this example ***len*** is a built-in Python function that returns the number of characters in a string. We’ve previously seen the *print* and the *type* functions, so this is our third example of a function!\n",
        "\n",
        "The evaluation of an expression produces a value, which is why expressions can appear on the right hand side of assignment statements. A value all by itself is a simple expression, and so is a variable. Evaluating a variable gives the value that the variable refers to."
      ]
    },
    {
      "cell_type": "code",
      "metadata": {
        "id": "3NJaT55amFUz"
      },
      "source": [
        ""
      ],
      "execution_count": null,
      "outputs": []
    },
    {
      "cell_type": "code",
      "metadata": {
        "id": "sfpa0aLxrjPj"
      },
      "source": [
        "y = 3.14\n",
        "x = len(\"hello\")\n",
        "print(x)\n",
        "print(y)"
      ],
      "execution_count": null,
      "outputs": []
    },
    {
      "cell_type": "markdown",
      "metadata": {
        "id": "94QAGAHrrkJ2"
      },
      "source": [
        "If we take a look at this same example in the Python shell, we will see one of the distinct differences between statements and expressions.\n",
        "\n",
        "    >>> y = 3.14\n",
        "    >>> x = len(\"hello\")\n",
        "    >>> print(x)\n",
        "    5\n",
        "    >>> print(y)\n",
        "    3.14\n",
        "    >>> y\n",
        "    3.14\n",
        "    >>>\n",
        "    \n",
        "Note that when we enter the assignment statement, *y = 3.14*, only the prompt is returned. There is no value. This is due to the fact that statements, such as the assignment statement, do not return a value. They are simply executed.\n",
        "\n",
        "On the other hand, the result of executing the assignment statement is the creation of a reference from a variable, *y*, to a value, *3.14*. When we execute the *print* function working on *y*, we see the value that *y* is referring to. In fact, evaluating *y* by itself results in the same response."
      ]
    },
    {
      "cell_type": "code",
      "metadata": {
        "id": "CyItmpIGmbVr"
      },
      "source": [
        "slope = (3/2)\n",
        "x_coord = -9\n",
        "y_int = 15\n",
        "\n",
        "y_coord = slope * x_coord + y_int\n",
        "y_coord2 = (3/2)*x_coord + 10\n",
        "\n",
        "print(y_coord)\n",
        "print(y_coord2)"
      ],
      "execution_count": null,
      "outputs": []
    }
  ]
}