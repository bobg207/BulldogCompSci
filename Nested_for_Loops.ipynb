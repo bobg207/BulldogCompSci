{
  "nbformat": 4,
  "nbformat_minor": 0,
  "metadata": {
    "colab": {
      "provenance": [],
      "include_colab_link": true
    },
    "kernelspec": {
      "name": "python3",
      "display_name": "Python 3"
    }
  },
  "cells": [
    {
      "cell_type": "markdown",
      "metadata": {
        "id": "view-in-github",
        "colab_type": "text"
      },
      "source": [
        "<a href=\"https://colab.research.google.com/github/bobg207/BulldogCompSci/blob/master/Nested_for_Loops.ipynb\" target=\"_parent\"><img src=\"https://colab.research.google.com/assets/colab-badge.svg\" alt=\"Open In Colab\"/></a>"
      ]
    },
    {
      "cell_type": "markdown",
      "metadata": {
        "id": "slr74auEQXTZ"
      },
      "source": [
        "#Nested For Loops\n",
        "Loops can be nested in Python, as they can with other programming languages.\n",
        "\n",
        "A nested loop is a loop that occurs within another loop, structurally similar to nested if statements. These are constructed like so:\n",
        "\n",
        "```\n",
        "for [first iterating variable] in [outer loop]: # Outer loop\n",
        "    [do something]  # Optional\n",
        "\n",
        "    for [second iterating variable] in [nested loop]:   # Nested loop\n",
        "        [do something]\n",
        "```\n",
        "\n",
        "The program first encounters the outer loop, executing its first iteration. This first iteration triggers the inner, nested loop, which then runs to completion. Then the program returns back to the top of the outer loop, completing the second iteration and again triggering the nested loop. Again, the nested loop runs to completion, and the program returns back to the top of the outer loop until the sequence is complete or a break or other statement disrupts the process."
      ]
    },
    {
      "cell_type": "markdown",
      "metadata": {
        "id": "5-88po76QqKq"
      },
      "source": [
        "Let’s implement a nested for loop so we can take a closer look. In this example, the outer loop will iterate through a list of integers called num_list, and the inner loop will iterate through a list of strings called alpha_list."
      ]
    },
    {
      "cell_type": "code",
      "metadata": {
        "id": "snPE7yMfRAEK",
        "colab": {
          "base_uri": "https://localhost:8080/"
        },
        "outputId": "1eff04a1-3c60-46e1-8afc-d2e39c7a2118"
      },
      "source": [
        "num_list = [1, 2, 3]\n",
        "alpha_list = ['a', 'b', 'c']\n",
        "\n",
        "for num in num_list:\n",
        "    print(num)\n",
        "\n",
        "    for letter in alpha_list:\n",
        "        print(letter, end = '')\n",
        "\n",
        "    print()\n",
        "\n",
        "print('\\nFinished with loop(s)')"
      ],
      "execution_count": 1,
      "outputs": [
        {
          "output_type": "stream",
          "name": "stdout",
          "text": [
            "1\n",
            "abc\n",
            "2\n",
            "abc\n",
            "3\n",
            "abc\n",
            "\n",
            "Finished with loop(s)\n"
          ]
        }
      ]
    },
    {
      "cell_type": "markdown",
      "metadata": {
        "id": "lJrP9aSQR6-R"
      },
      "source": [
        "The output illustrates that the program completes the first iteration of the outer loop by printing 1, which then triggers completion of the inner loop, printing a, b, c consecutively. Once the inner loop has completed, the program returns to the top of the outer loop, prints 2, then again prints the inner loop in its entirety (a, b, c), etc."
      ]
    },
    {
      "cell_type": "markdown",
      "metadata": {
        "id": "YDqypGqfSxvX"
      },
      "source": [
        "Lets do a simple example.\n",
        "\n",
        "We create two lists. A list of people and a list of restaurants.  If we have a list of persons who like to eat at restaurants, can we make every one of them eat a certain restaurant?"
      ]
    },
    {
      "cell_type": "code",
      "metadata": {
        "id": "GlJ8CD69SypV",
        "colab": {
          "base_uri": "https://localhost:8080/"
        },
        "outputId": "de21e04f-efe0-436d-e936-cf4b9f1f6b6a"
      },
      "source": [
        "persons = [ \"John\", \"Marissa\", \"Pete\", \"Dayton\" ]\n",
        "restaurants = [ \"Japanese\", \"American\", \"Mexican\", \"French\" ]\n",
        "\n",
        "for name in persons:\n",
        "    # print(name)\n",
        "\n",
        "    for rest in restaurants:\n",
        "        print(f\"{name} likes {rest} food.\")\n",
        "\n",
        "    print()"
      ],
      "execution_count": 2,
      "outputs": [
        {
          "output_type": "stream",
          "name": "stdout",
          "text": [
            "John likes Japanese food.\n",
            "John likes American food.\n",
            "John likes Mexican food.\n",
            "John likes French food.\n",
            "\n",
            "Marissa likes Japanese food.\n",
            "Marissa likes American food.\n",
            "Marissa likes Mexican food.\n",
            "Marissa likes French food.\n",
            "\n",
            "Pete likes Japanese food.\n",
            "Pete likes American food.\n",
            "Pete likes Mexican food.\n",
            "Pete likes French food.\n",
            "\n",
            "Dayton likes Japanese food.\n",
            "Dayton likes American food.\n",
            "Dayton likes Mexican food.\n",
            "Dayton likes French food.\n",
            "\n"
          ]
        }
      ]
    },
    {
      "cell_type": "markdown",
      "metadata": {
        "id": "SVtMT-ObR8Lt"
      },
      "source": [
        "Nested for loops can be useful for iterating through items within lists composed of lists. In a list composed of lists, if we employ just one for loop, the program will output each internal list as an item:"
      ]
    },
    {
      "cell_type": "code",
      "metadata": {
        "id": "r2cLji_tSBig",
        "colab": {
          "base_uri": "https://localhost:8080/"
        },
        "outputId": "0beedd2a-f903-4fdb-f41d-0f9ae87e1ae0"
      },
      "source": [
        "list_of_lists = [['hammerhead', 'great white', 'dogfish'],[0, 1, 2],[9.9, 8.8, 7.7]]\n",
        "\n",
        "for container in list_of_lists:\n",
        "    print(container)\n",
        "\n",
        "    for item in container:\n",
        "        print(item)\n",
        "\n",
        "    print()"
      ],
      "execution_count": 3,
      "outputs": [
        {
          "output_type": "stream",
          "name": "stdout",
          "text": [
            "['hammerhead', 'great white', 'dogfish']\n",
            "hammerhead\n",
            "great white\n",
            "dogfish\n",
            "\n",
            "[0, 1, 2]\n",
            "0\n",
            "1\n",
            "2\n",
            "\n",
            "[9.9, 8.8, 7.7]\n",
            "9.9\n",
            "8.8\n",
            "7.7\n",
            "\n"
          ]
        }
      ]
    },
    {
      "cell_type": "markdown",
      "metadata": {
        "id": "AIFB8wIQSEWT"
      },
      "source": [
        "In order to access each individual item of the internal lists, we’ll implement a nested for loop:"
      ]
    },
    {
      "cell_type": "code",
      "metadata": {
        "id": "-s0HIc-3SIAZ"
      },
      "source": [
        "list_of_lists = [['hammerhead', 'great white', 'dogfish'],[0, 1, 2],[9.9, 8.8, 7.7]]\n"
      ],
      "execution_count": 4,
      "outputs": []
    },
    {
      "cell_type": "code",
      "metadata": {
        "id": "OZDJB-JgnyKC",
        "colab": {
          "base_uri": "https://localhost:8080/"
        },
        "outputId": "6979d6fa-19c9-4e9f-c239-0653f2599bef"
      },
      "source": [
        "persons = [ \"John\", \"Marissa\", \"Pete\", \"Dayton\" ]\n",
        "\n",
        "for name in persons:\n",
        "    print(name)\n",
        "    letter_counter = 0\n",
        "\n",
        "    for char in name:\n",
        "        letter_counter += 1\n",
        "\n",
        "    print(letter_counter)\n",
        "    print()\n",
        "\n",
        "print(\"Finished counting\")"
      ],
      "execution_count": 5,
      "outputs": [
        {
          "output_type": "stream",
          "name": "stdout",
          "text": [
            "John\n",
            "4\n",
            "\n",
            "Marissa\n",
            "7\n",
            "\n",
            "Pete\n",
            "4\n",
            "\n",
            "Dayton\n",
            "6\n",
            "\n",
            "Finished counting\n"
          ]
        }
      ]
    }
  ]
}