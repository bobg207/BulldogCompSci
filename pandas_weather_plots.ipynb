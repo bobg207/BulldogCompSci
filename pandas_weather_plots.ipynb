{
  "nbformat": 4,
  "nbformat_minor": 0,
  "metadata": {
    "colab": {
      "provenance": [],
      "collapsed_sections": [],
      "include_colab_link": true
    },
    "kernelspec": {
      "name": "python3",
      "display_name": "Python 3"
    }
  },
  "cells": [
    {
      "cell_type": "markdown",
      "metadata": {
        "id": "view-in-github",
        "colab_type": "text"
      },
      "source": [
        "<a href=\"https://colab.research.google.com/github/bobg207/BulldogCompSci/blob/master/pandas_weather_plots.ipynb\" target=\"_parent\"><img src=\"https://colab.research.google.com/assets/colab-badge.svg\" alt=\"Open In Colab\"/></a>"
      ]
    },
    {
      "cell_type": "markdown",
      "source": [
        "# Mount the drive\n",
        "\n",
        "The path to drive is '/content/drive'"
      ],
      "metadata": {
        "id": "SpoKEUEfAJvR"
      }
    },
    {
      "cell_type": "code",
      "metadata": {
        "id": "5ydUeyqjDVan",
        "colab": {
          "base_uri": "https://localhost:8080/"
        },
        "outputId": "b16e48c7-19cb-4499-f2a9-0bb6a7810b65"
      },
      "source": [
        "from google.colab import drive\n",
        "drive.mount('/content/drive')"
      ],
      "execution_count": 1,
      "outputs": [
        {
          "output_type": "stream",
          "name": "stdout",
          "text": [
            "Mounted at /content/drive\n"
          ]
        }
      ]
    },
    {
      "cell_type": "markdown",
      "source": [
        "# Display the contents of the folder where the data exists\n",
        "\n",
        "Use `!ls` followed by the path to the folder containg the data file.  Be sure to escape `\\` any special characters, like spaces, that might be part of a folder name. The path to the folder begins with the path used above and ends with `/*.txt`. This will display all (`*`) files, with extension `.txt` that are in the location provided by the path.\n",
        "\n",
        "ex: `!ls content/drive/My\\ Drive/ColabNBs/*.txt`\n",
        "\n",
        "Notice the escaped space between \"My\" and \"Drive\".  Also when doing this the path is NOT in quotes, the language here is not Python but Command Line and as such does not require the path to be a string."
      ],
      "metadata": {
        "id": "d9fG6mX3AQmq"
      }
    },
    {
      "cell_type": "code",
      "metadata": {
        "id": "XlEiovK2DtLm",
        "colab": {
          "base_uri": "https://localhost:8080/"
        },
        "outputId": "913f1abe-505f-4adc-fc33-871861494405"
      },
      "source": [
        "!ls /content/drive/My\\ Drive/Colab\\ Notebooks/*.txt"
      ],
      "execution_count": 2,
      "outputs": [
        {
          "output_type": "stream",
          "name": "stdout",
          "text": [
            "'/content/drive/My Drive/Colab Notebooks/address.txt'\n",
            "'/content/drive/My Drive/Colab Notebooks/Euro_2012_Team_Stats.txt'\n",
            "'/content/drive/My Drive/Colab Notebooks/PortlandWeather2013b.txt'\n",
            "'/content/drive/My Drive/Colab Notebooks/qb_data_2.txt'\n"
          ]
        }
      ]
    },
    {
      "cell_type": "markdown",
      "source": [
        "# Create a convert_temp function\n",
        "\n",
        "The temperatures, in the data, are in degrees Celsius and mulitplied by 10 so there are no decimals in the data.  Create a function to convert a given temp to a temp in degrees Fahrenheit, rounded to one decimal place.\n",
        "\n"
      ],
      "metadata": {
        "id": "ICPlcarrBVMj"
      }
    },
    {
      "cell_type": "code",
      "metadata": {
        "id": "Qm2pvMtjFCXf"
      },
      "source": [
        "def temp_convert(temp):\n",
        "  convert_decimal = int(temp)/10\n",
        "  convert_temp = round(1.8 * convert_decimal + 32, 1)\n",
        "  return convert_temp\n"
      ],
      "execution_count": 3,
      "outputs": []
    },
    {
      "cell_type": "markdown",
      "source": [
        "# Read the data from the file\n",
        "\n",
        "Create the path (should be the one use above, with the specific file that you will read from).\n",
        "\n",
        "Use this path to read the dat from the file.  Decide how you will do this and what format would you like the data returned as.\n",
        "\n",
        "Spend some time looking at the data and deciding how you will \"clean\" the data.  \n",
        "\n",
        "1.   Which columns of data are of interest and wich will be ignored\n",
        "2.   What are the data types currently and what do you want them to be\n",
        "3.   What data do you want and how will you store the data you choose\n",
        "4.   How will you convert the data that needs changing\n",
        "5.   Is there any missing or unusual data? How will you handle this?\n",
        "6.   Other?"
      ],
      "metadata": {
        "id": "-ywZsDIFG6DG"
      }
    },
    {
      "cell_type": "code",
      "source": [
        "path = '/content/drive/My Drive/Colab Notebooks/PortlandWeather2013b.txt'\n",
        "\n",
        "with open(path) as file:\n",
        "  data_list = file.readlines()\n",
        "\n",
        "data_list"
      ],
      "metadata": {
        "id": "ZUR4ETRcG6tW"
      },
      "execution_count": null,
      "outputs": []
    },
    {
      "cell_type": "markdown",
      "source": [
        "# Create a Python dictionary with the weather data\n",
        "\n",
        "Copy/Paste your code from the previous NB"
      ],
      "metadata": {
        "id": "Ht_wS5lLHQ3g"
      }
    },
    {
      "cell_type": "code",
      "source": [],
      "metadata": {
        "id": "x0aT8LptHRng"
      },
      "execution_count": 5,
      "outputs": []
    },
    {
      "cell_type": "markdown",
      "source": [
        "# Pandas"
      ],
      "metadata": {
        "id": "qN-dIlIPvpB_"
      }
    },
    {
      "cell_type": "markdown",
      "source": [
        "## Create a Dataframe using the weather dictionary"
      ],
      "metadata": {
        "id": "8DDcf3h9vwIW"
      }
    },
    {
      "cell_type": "code",
      "source": [
        "# create a pandas df\n"
      ],
      "metadata": {
        "id": "evrpGqL2v433"
      },
      "execution_count": 7,
      "outputs": []
    },
    {
      "cell_type": "markdown",
      "source": [
        "## Display the first 5 and last 5 rows"
      ],
      "metadata": {
        "id": "NEKEp72-v-v1"
      }
    },
    {
      "cell_type": "code",
      "source": [],
      "metadata": {
        "id": "c7nSasz_v82g"
      },
      "execution_count": null,
      "outputs": []
    },
    {
      "cell_type": "markdown",
      "source": [
        "## Display a summary of basic information about your df, in two ways"
      ],
      "metadata": {
        "id": "XzNKS7aywMm3"
      }
    },
    {
      "cell_type": "code",
      "source": [
        "# df.info() and df.describe()"
      ],
      "metadata": {
        "id": "XQ_qDdLtwvPN"
      },
      "execution_count": null,
      "outputs": []
    },
    {
      "cell_type": "markdown",
      "source": [
        "## Display the first 3 rows of the max temps columns using 2 different methods. Assign each to a different variable and use print( ) to display."
      ],
      "metadata": {
        "id": "a4Xo0_PewuEs"
      }
    },
    {
      "cell_type": "code",
      "source": [
        "# df.iloc[[rowstart:rowstop], [col1]] for integer selection; \n",
        "# stop is exclusive due to zero indexing\n",
        "# df.loc[[rowstart:rowstop], [col1]] for label selection; \n",
        "# stop is inclusive\n"
      ],
      "metadata": {
        "id": "gC9RsJo3xJ9N"
      },
      "execution_count": null,
      "outputs": []
    },
    {
      "cell_type": "markdown",
      "source": [
        "## ## Display the rows 10, 100, 200, and 365 of the date and min temps columns using 2 different methods. Assign each to a different variable and use print( ) to display."
      ],
      "metadata": {
        "id": "1AB5oGWFxKlL"
      }
    },
    {
      "cell_type": "code",
      "source": [
        "# df.iloc[[row1, row2, ...], [col1, col2, ...]] for integer selection; \n",
        "# stop is exclusive due to zero indexing\n",
        "# df.loc[[row1, row2, ...], [col1, col2, ...]] for label selection; \n",
        "# stop is inclusive"
      ],
      "metadata": {
        "id": "ip1IgCTmycji"
      },
      "execution_count": null,
      "outputs": []
    },
    {
      "cell_type": "markdown",
      "source": [
        "## Select only the rows where the max temps are greater than 90. Assign this to a variable"
      ],
      "metadata": {
        "id": "rIs0ZfXPzRu1"
      }
    },
    {
      "cell_type": "code",
      "source": [
        "# df.loc[df[col] condition]"
      ],
      "metadata": {
        "id": "0UiFhgIAzTL5"
      },
      "execution_count": null,
      "outputs": []
    },
    {
      "cell_type": "markdown",
      "source": [
        "## Using the dataframe (assigned to a variable) from the previous cell, get just the dates where the temperature was greater than 90.  Convert to a Python list."
      ],
      "metadata": {
        "id": "0x7IkNYJ1U9q"
      }
    },
    {
      "cell_type": "code",
      "source": [
        "# df[col]\n"
      ],
      "metadata": {
        "id": "h3MlpDf-17kD"
      },
      "execution_count": null,
      "outputs": []
    },
    {
      "cell_type": "markdown",
      "source": [
        "## Convert to a Python list"
      ],
      "metadata": {
        "id": "eeMvbTq-2dG0"
      }
    },
    {
      "cell_type": "code",
      "source": [
        "# df.tolist()\n"
      ],
      "metadata": {
        "id": "iyJIV9P-2g0s"
      },
      "execution_count": null,
      "outputs": []
    },
    {
      "cell_type": "markdown",
      "source": [
        "# Plot Weather Data\n",
        "\n",
        "Plot the days of the year where the minimum temperature greater than 40 degrees."
      ],
      "metadata": {
        "id": "Lv9Hj1LM23Qt"
      }
    },
    {
      "cell_type": "code",
      "source": [],
      "metadata": {
        "id": "ue9u_1xD3vKg"
      },
      "execution_count": null,
      "outputs": []
    }
  ]
}