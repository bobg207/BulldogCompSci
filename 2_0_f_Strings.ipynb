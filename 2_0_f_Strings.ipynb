{
  "nbformat": 4,
  "nbformat_minor": 0,
  "metadata": {
    "colab": {
      "name": "3.0_f-Strings.ipynb",
      "provenance": [],
      "include_colab_link": true
    },
    "kernelspec": {
      "name": "python3",
      "display_name": "Python 3"
    }
  },
  "cells": [
    {
      "cell_type": "markdown",
      "metadata": {
        "id": "view-in-github",
        "colab_type": "text"
      },
      "source": [
        "<a href=\"https://colab.research.google.com/github/bobg207/BulldogCompSci/blob/master/2_0_f_Strings.ipynb\" target=\"_parent\"><img src=\"https://colab.research.google.com/assets/colab-badge.svg\" alt=\"Open In Colab\"/></a>"
      ]
    },
    {
      "cell_type": "markdown",
      "metadata": {
        "id": "vVGReimPeLdZ"
      },
      "source": [
        "# f-Strings\n",
        "Also called “formatted string literals,” **f-strings** are **string literals** that have an **f** at the beginning and curly braces containing expressions that will be replaced with their values. The expressions are evaluated at runtime and then formatted using the __format__ protocol. As always, the Python docs are your friend when you want to learn more.\n",
        "\n",
        "The general format for these string is:\n",
        "\n",
        "```\n",
        "f\"string...{variable/expression}...string...{variable/expression}...string...\"\n",
        "```\n",
        "*   The \"f\" at the beginning tells the interpreter that a formatted string is to follow.\n",
        "*   \"string... may be some written text to open the formatted string\n",
        "*   The \"{\" tells the interpreter to locate the value of the variable or expression that follows and place it in the string at this location\n",
        "*   The \"}\" tells the interpreter that the variable/expression is complete\n",
        "*   ...string\" may be some written text to close the formatted string\n",
        "\n",
        "Here are some of the ways f-strings can make your life easier."
      ]
    },
    {
      "cell_type": "code",
      "metadata": {
        "id": "9yp0fYoEeE16"
      },
      "source": [
        "name = \"Eric\"\n",
        "age = 74\n",
        "\n",
        "greeting = f\"Hello, {name}. You are {age}.\"\n",
        "\n",
        "print(greeting)"
      ],
      "execution_count": null,
      "outputs": []
    },
    {
      "cell_type": "markdown",
      "metadata": {
        "id": "2svHc16ier74"
      },
      "source": [
        "It would also be valid to use a capital letter F:"
      ]
    },
    {
      "cell_type": "code",
      "metadata": {
        "id": "UE4L9UsDevaK"
      },
      "source": [
        "name = \"Eric\"\n",
        "age = 74\n",
        "\n",
        "greeting = F\"Hello, {name}. You are {age}.\"\n",
        "\n",
        "print(greeting)"
      ],
      "execution_count": null,
      "outputs": []
    },
    {
      "cell_type": "markdown",
      "metadata": {
        "id": "FiPYFf4IfB0Z"
      },
      "source": [
        "# Arbitrary Expressions\n",
        "Because f-strings are evaluated at runtime, you can put any and all valid Python expressions in them. This allows you to do some nifty things.\n",
        "\n",
        "You could do something pretty straightforward, like this:"
      ]
    },
    {
      "cell_type": "code",
      "metadata": {
        "id": "VPr8wE9ffHxm"
      },
      "source": [
        "product = f\"{2 * 37}\"\n",
        "\n",
        "print(product)"
      ],
      "execution_count": null,
      "outputs": []
    },
    {
      "cell_type": "markdown",
      "metadata": {
        "id": "6OCIyUslfPn8"
      },
      "source": [
        "But you could also call functions. Here’s an example:"
      ]
    },
    {
      "cell_type": "code",
      "metadata": {
        "id": "5dAI6QZefWSK"
      },
      "source": [
        "def to_lowercase(input):\n",
        "  return input.lower()\n",
        "\n",
        "name = \"Eric Idle\"\n",
        "opinion = f\"{to_lowercase(name)} is funny.\"\n",
        "\n",
        "print(opinion)"
      ],
      "execution_count": null,
      "outputs": []
    },
    {
      "cell_type": "markdown",
      "metadata": {
        "id": "_lHGd3U0fVkx"
      },
      "source": [
        "# Python f-string format floats\n",
        "Floating point values have the **f suffix**. We can also specify the **precision**: the number of decimal places. The precision is a value that goes right after the dot character.\n",
        "\n",
        "```\n",
        "f\"string...{variable:.#f}..string\"\n",
        "```\n",
        "*   The \"f\" at the beginning tells the interpreter that a formatted string is to follow.\n",
        "*   \"string... may be some written text to open the formatted string\n",
        "*   The colon (:) tells the interpreter that some special formatting is to follow. \n",
        "*   The period (.) tells the interpreter that the formatting has to do with decimal places. \n",
        "*   The number after the period tells the interpreter how many decimal places to round to.  \n",
        "*   The \"f\", in the braces at the end denotes that the value is to be cast as a float.\n",
        "*   ...string\" may be some written text to close the formatted string"
      ]
    },
    {
      "cell_type": "code",
      "metadata": {
        "id": "U02VEsoJksmB"
      },
      "source": [
        "import math\n",
        "\n",
        "val = math.pi\n",
        "\n",
        "print(f'This is the full value of pi: {val}.')\n",
        "print(f'This is pi rounded to 2 deciaml places: {val:.2f}.') \n",
        "print(f'This is pi rounded to 5 decimal places: {val:.5f}.')    "
      ],
      "execution_count": null,
      "outputs": []
    }
  ]
}