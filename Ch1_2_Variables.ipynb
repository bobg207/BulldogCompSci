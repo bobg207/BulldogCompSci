{
  "nbformat": 4,
  "nbformat_minor": 0,
  "metadata": {
    "colab": {
      "name": "Ch2-2_Variables.ipynb",
      "provenance": [],
      "collapsed_sections": [],
      "include_colab_link": true
    },
    "kernelspec": {
      "display_name": "Python 3",
      "name": "python3"
    }
  },
  "cells": [
    {
      "cell_type": "markdown",
      "metadata": {
        "id": "view-in-github",
        "colab_type": "text"
      },
      "source": [
        "<a href=\"https://colab.research.google.com/github/bobg207/BulldogCompSci/blob/master/Ch1_2_Variables.ipynb\" target=\"_parent\"><img src=\"https://colab.research.google.com/assets/colab-badge.svg\" alt=\"Open In Colab\"/></a>"
      ]
    },
    {
      "cell_type": "markdown",
      "metadata": {
        "id": "ngXEOQH5PyMu"
      },
      "source": [
        "# **2.2 Variables**\n",
        "One of the most powerful features of a programming language is the ability to manipulate variables. A **variable** is a name that refers to a **value**.\n",
        "\n",
        "**Assignment statements** create new variables and also give them values to refer to.\n",
        "\n",
        "    message = \"What's up, Doc?\"\n",
        "    n = 17\n",
        "    pi = 3.14159\n",
        "\n",
        "This example makes three assignments. The first assigns the string value *\"What's up, Doc?\"* to a new variable named *message*. The second gives the integer *17* to *n*, and the third assigns the floating-point number *3.14159* to a variable called *pi*.\n",
        "\n",
        "The **assignment token**, =, should not be confused with *equality* (we will see later that equality uses the == token). The assignment statement links a *name*, on the left hand side of the operator, with a *value*, on the right hand side. This is why you will get an error if you enter:"
      ]
    },
    {
      "cell_type": "code",
      "metadata": {
        "id": "piknQAWbPuDy"
      },
      "source": [
        "17 = n\n"
      ],
      "execution_count": null,
      "outputs": []
    },
    {
      "cell_type": "markdown",
      "metadata": {
        "id": "ydNyBuabQg2i"
      },
      "source": [
        "    Tip\n",
        "    When reading or writing code, say to yourself “n is assigned 17” or “n\n",
        "    gets the value 17” or “n is a reference to the object 17” or “n refers\n",
        "    to the object 17”. Don’t say “n equals 17”.\n",
        "    \n",
        "A common way to represent variables on paper is to write the name with an arrow pointing to the variable’s value. This kind of figure, known as a **reference diagram**, is often called a state snapshot because it shows what state each of the variables is in at a particular instant in time. (Think of it as the variable’s state of mind). [This diagram](https://www.pythoneasy.com/static/img/tutorial/variable/x_is_5.png) shows the result of executing the assignment statements shown below.\n",
        "\n"
      ]
    },
    {
      "cell_type": "code",
      "metadata": {
        "id": "2c4z1hBkZUTK"
      },
      "source": [
        "x = 5\n",
        "name = \"Python\""
      ],
      "execution_count": null,
      "outputs": []
    },
    {
      "cell_type": "markdown",
      "metadata": {
        "id": "SaFJUwWiZdEO"
      },
      "source": [
        "If you ask Python to evaluate a variable, it will produce the value that is currently linked to the variable. In other words, evaluating a variable will give you the value that is referred to by the variable."
      ]
    },
    {
      "cell_type": "code",
      "metadata": {
        "id": "p40b6NY0jw5e"
      },
      "source": [
        "message = \"What's up, Doc?\"\n",
        "n = 17\n",
        "pi = 3.14159\n",
        "\n",
        "print(message)\n",
        "print(n)\n",
        "print(pi)"
      ],
      "execution_count": null,
      "outputs": []
    },
    {
      "cell_type": "markdown",
      "metadata": {
        "id": "vOtiZZDbjyRa"
      },
      "source": [
        "In each case the result is the value of the variable.\n",
        "\n",
        "Variables also have types; again, we can ask the interpreter what they are."
      ]
    },
    {
      "cell_type": "code",
      "metadata": {
        "id": "U7grAJ5fj9RF"
      },
      "source": [
        "message = \"What's up, Doc?\"\n",
        "n = 17\n",
        "pi = 3.14159\n",
        "\n",
        "\n",
        "print(type(message))\n",
        "print(type(n))\n",
        "print(type(pi))"
      ],
      "execution_count": null,
      "outputs": []
    },
    {
      "cell_type": "markdown",
      "metadata": {
        "id": "7rlQCd85kAj4"
      },
      "source": [
        "The type of a variable is the type of the object it currently refers to.\n",
        "\n",
        "We use variables in a program to “remember” things, like the current score at the football game. But variables are variable. This means they can change over time, just like the scoreboard at a football game. You can assign a value to a variable, and later assign a different value to the same variable.\n",
        "\n",
        "    Note\n",
        "    This is different from math. In math, if you give x the value 3, it cannot change to refer to a different value half-way through your calculations!\n",
        "To see this, read and then run the following program. You’ll notice we change the value of day three times, and on the third assignment we even give it a value that is of a different type."
      ]
    },
    {
      "cell_type": "code",
      "metadata": {
        "id": "TOzKohehkMEz"
      },
      "source": [
        "day = \"Thursday\"\n",
        "print(day)\n",
        "day = \"Friday\"\n",
        "print(day)\n",
        "day = 21\n",
        "print(day)"
      ],
      "execution_count": null,
      "outputs": []
    },
    {
      "cell_type": "markdown",
      "metadata": {
        "id": "IJLA8oSykWpO"
      },
      "source": [
        "A great deal of programming is about having the computer remember things. For example, we might want to keep track of the number of missed calls on your phone. Each time another call is missed, we will arrange to update or change the variable so that it will always reflect the correct value."
      ]
    },
    {
      "cell_type": "markdown",
      "metadata": {
        "id": "cjzVGVXmkpCS"
      },
      "source": [
        "# **Variable Names and Keywords**\n",
        "Variable names can be arbitrarily long. They can contain both letters and digits, but they have to begin with a letter or an underscore. Although it is legal to use uppercase letters, by convention we don’t. If you do, remember that case matters. Bruce and bruce are different variables.\n",
        "\n",
        "    Caution\n",
        "    Variable names can never contain spaces.\n",
        "\n",
        "The underscore character ( _) can also appear in a name. It is often used in names with multiple words, such as my_name or price_of_tea_in_china. There are some situations in which names beginning with an underscore have special meaning, so a safe rule for beginners is to start all names with a letter.\n",
        "\n",
        "If you give a variable an illegal name, you get a syntax error. In the example below, each of the variable names is illegal.\n",
        "\n",
        "    \n",
        "\n",
        "\n",
        "\n"
      ]
    },
    {
      "cell_type": "code",
      "metadata": {
        "id": "2VR8my06o8u8"
      },
      "source": [
        "76trombones = \"big parade\""
      ],
      "execution_count": null,
      "outputs": []
    },
    {
      "cell_type": "markdown",
      "metadata": {
        "id": "GfDx0LVQpM-z"
      },
      "source": [
        "*76trombones* is illegal because it does not begin with a letter. "
      ]
    },
    {
      "cell_type": "code",
      "metadata": {
        "id": "2wFo9bTzpO1y"
      },
      "source": [
        "more$ = 1000000"
      ],
      "execution_count": null,
      "outputs": []
    },
    {
      "cell_type": "markdown",
      "metadata": {
        "id": "Z64Ci7EHpQ39"
      },
      "source": [
        "*more$* is illegal because it contains an illegal character, the dollar sign. "
      ]
    },
    {
      "cell_type": "code",
      "metadata": {
        "id": "SG9hazKYpRWo"
      },
      "source": [
        "class = \"Computer Science 101\""
      ],
      "execution_count": null,
      "outputs": []
    },
    {
      "cell_type": "markdown",
      "metadata": {
        "id": "2n3HVrynpJSN"
      },
      "source": [
        "But what’s wrong with *class*?\n",
        "\n",
        "It turns out that class is one of the Python keywords. Keywords define the language’s syntax rules and structure, and they cannot be used as variable names. Python has thirty-something keywords (and every now and again improvements to Python introduce or eliminate one or two):\n",
        "\n",
        "    and      as      assert   break    class    continue    def\n",
        "    del      elif    else     except   exec     finally     for\n",
        "    from     global  if       import   in       is          lambda\n",
        "    nonlocal not     or       pass     raise    return      try\n",
        "    while    with    yield    True     False    None\n",
        "    \n",
        "You might want to keep this list handy. If the interpreter complains about one of your variable names and you don’t know why, see if it is on this list.\n",
        "\n",
        "Programmers generally choose names for their variables that are meaningful to the human readers of the program — they help the programmer document, or remember, what the variable is used for.\n",
        "\n",
        "    Caution\n",
        "    Beginners sometimes confuse “meaningful to the human readers” with “meaningful to the computer”. So they’ll wrongly think that because they’ve called some variable average or pi, it will somehow automagically calculate an average, or automagically associate the variable pi with the value 3.14159. No! The computer doesn’t attach semantic meaning to your variable names.\n",
        "\n",
        "    So you’ll find some instructors who deliberately don’t choose meaningful names when they teach beginners — not because they don’t think it is a good habit, but because they’re trying to reinforce the message that you, the programmer, have to write some program code to calculate the average, or you must write an assignment statement to give a variable the value you want it to have."
      ]
    }
  ]
}