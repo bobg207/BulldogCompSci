{
  "nbformat": 4,
  "nbformat_minor": 0,
  "metadata": {
    "colab": {
      "name": "Ch2-1_DTypes.ipynb",
      "provenance": [],
      "collapsed_sections": [],
      "include_colab_link": true
    },
    "kernelspec": {
      "name": "python3",
      "display_name": "Python 3"
    }
  },
  "cells": [
    {
      "cell_type": "markdown",
      "metadata": {
        "id": "view-in-github",
        "colab_type": "text"
      },
      "source": [
        "<a href=\"https://colab.research.google.com/github/bobg207/BulldogCompSci/blob/master/Ch1_1_DataTypes.ipynb\" target=\"_parent\"><img src=\"https://colab.research.google.com/assets/colab-badge.svg\" alt=\"Open In Colab\"/></a>"
      ]
    },
    {
      "cell_type": "markdown",
      "metadata": {
        "id": "Wqa4tFRLHB6s"
      },
      "source": [
        "# **Values and Data Types**\n",
        "A **value** is one of the fundamental things — like a word or a number — that a program manipulates. The values we have seen so far are 5 (the result when we added 2 + 3), and \"Hello, World!\". We often refer to these values as **objects** and we will use the words value and object interchangeably.\n",
        "\n",
        "These objects are classified into different **classes**, or **data types**: 4 is an integer, and \"Hello, World!\" is a string, so-called because it contains a string or sequence of letters. You (and the interpreter) can identify strings because they are enclosed in quotation marks.\n",
        "\n",
        "If you are not sure what class a value falls into, Python has a function called **type** which can tell you.\n",
        "\n"
      ]
    },
    {
      "cell_type": "code",
      "metadata": {
        "id": "h5c5ynbaHBLX"
      },
      "source": [
        "print(type(\"Hello, World!\"))\n",
        "print(type(17))\n",
        "print(\"Hello, World\")"
      ],
      "execution_count": null,
      "outputs": []
    },
    {
      "cell_type": "markdown",
      "metadata": {
        "id": "vt1DklScHxMg"
      },
      "source": [
        "Not surprisingly, strings belong to the class **str** and integers belong to the class **int**.\n",
        "\n",
        "\n",
        "---\n",
        "\n",
        "\n",
        "**Note:**\n",
        "\n",
        "**When we show the value of a string using the print function, such as in the third example above, the quotes are not present in the output. The value of the string is the sequence of characters inside the quotes. The quotes are only necessary to help Python know what the value is.**\n",
        "\n",
        "\n",
        "---\n",
        "\n",
        "\n",
        "You may have used function notation in a math class, like ***y = f(x)***, likely only for functions that act on a single numeric value, and produce a single numeric value. Python has no such restrictions: Inputs and outputs may be of any type.\n",
        "\n",
        "In the Python shell, it is not necessary to use the ***print*** function to see the values shown above. The shell evaluates the Python function and automatically prints the result. For example, consider the shell session shown below. When we ask the shell to evaluate ***type(\"Hello, World!\")***, it responds with the appropriate answer and then goes on to display the prompt for the next use.\n",
        "\n",
        "    Examples - run in the Python interpreter shell\n",
        "    >>> type(\"Hello, World!\")\n",
        "    <class 'str'>\n",
        "    >>> type(17)\n",
        "    <class 'int'>\n",
        "    >>> \"Hello, World\"\n",
        "    'Hello, World'\n",
        "    >>>\n",
        "    \n",
        "Note that in the last example, we simply ask the shell to evaluate the string “Hello, World”. The result is as you might expect, the string itself.\n",
        "\n",
        "Continuing with our discussion of data types, numbers with a decimal point belong to a class called float, because these numbers are represented in a format called floating-point. At this stage, you can treat the words *class* and *type* interchangeably. We’ll come back to a deeper understanding of what a class is in later chapters."
      ]
    },
    {
      "cell_type": "code",
      "metadata": {
        "id": "b2tKarwfIlu4"
      },
      "source": [
        "print(type(3.2))"
      ],
      "execution_count": null,
      "outputs": []
    },
    {
      "cell_type": "markdown",
      "metadata": {
        "id": "TLMSkYAmJMQ0"
      },
      "source": [
        "What about values like \"17\" and \"3.2\"? They look like numbers, but they are in quotation marks like strings."
      ]
    },
    {
      "cell_type": "code",
      "metadata": {
        "id": "dsEiMXT1JTlq"
      },
      "source": [
        "print(type(\"17\"))\n",
        "print(type(\"3.2\"))"
      ],
      "execution_count": null,
      "outputs": []
    },
    {
      "cell_type": "markdown",
      "metadata": {
        "id": "appPLe5zJU79"
      },
      "source": [
        "They’re strings!\n",
        "\n",
        "Strings in Python can be enclosed in either single quotes (') or double quotes (\" - the double quote character), or three of the same separate quote characters (' ' ' or \" \" \")."
      ]
    },
    {
      "cell_type": "code",
      "metadata": {
        "id": "QWru_LQGJX51"
      },
      "source": [
        "print('This is a string.')\n",
        "print(type(\"And so is this.\") )\n",
        "print(type(\"\"\"and this.\"\"\") )\n",
        "print('''and even\n",
        "this...''')"
      ],
      "execution_count": null,
      "outputs": []
    },
    {
      "cell_type": "markdown",
      "metadata": {
        "id": "CgjT3_sjJd_a"
      },
      "source": [
        "Double quoted strings can contain single quotes inside them, as in\n",
        "\"Bruce's beard\", and single quoted strings can have double quotes inside them, as in 'The knights who say \"Ni!\"'. Strings enclosed with three occurrences of either quote symbol are called triple quoted strings. They can contain either single or double quotes:"
      ]
    },
    {
      "cell_type": "code",
      "metadata": {
        "id": "94kNErTMNuyP"
      },
      "source": [
        "print('''\"Oh no\", she exclaimed, \"Ben's bike is broken!\"''')"
      ],
      "execution_count": null,
      "outputs": []
    },
    {
      "cell_type": "markdown",
      "metadata": {
        "id": "35MPwZxwOHxT"
      },
      "source": [
        "Triple quoted strings can even span multiple lines:"
      ]
    },
    {
      "cell_type": "code",
      "metadata": {
        "id": "U48M8QMSOIvU"
      },
      "source": [
        "print(\"\"\"This message will span\n",
        "several lines\n",
        "of the text.\"\"\")"
      ],
      "execution_count": null,
      "outputs": []
    },
    {
      "cell_type": "markdown",
      "metadata": {
        "id": "xULMONYJOLPS"
      },
      "source": [
        "Python doesn’t care whether you use single or double quotes or the three-of-a-kind quotes to surround your strings. Once it has parsed the text of your program or command, the way it stores the value is identical in all cases, and the surrounding quotes are not part of the value."
      ]
    },
    {
      "cell_type": "code",
      "metadata": {
        "id": "HLnGWo8QON8o"
      },
      "source": [
        "print('This is a string.')\n",
        "print(\"\"\"And so is this.\"\"\")"
      ],
      "execution_count": null,
      "outputs": []
    },
    {
      "cell_type": "markdown",
      "metadata": {
        "id": "s87zcmVYORbS"
      },
      "source": [
        "So the Python language designers usually chose to surround their strings by single quotes. What do you think would happen if the string already contained single quotes?\n",
        "\n",
        "The **backslash** (**\\\\**) character is used to **escape** characters that otherwise have a special meaning, such as **newline**, backslash itself, or the quote character.\n",
        "\n",
        "Common Escape Sequences\n",
        "\n",
        "    Escape Sequence     Meaning\n",
        "\n",
        "    \\                   Backslash and newline ignored\n",
        "\n",
        "    \\\\                  Backslash (\\)\n",
        "\n",
        "    \\'                  Single quote (')\n",
        " \n",
        "    \\\"                  Double quote (\")\n",
        "\n",
        "    \\n                  newline\n",
        "\n",
        "    \\t                  horizontal tab (TAB)\n",
        "    \n",
        "Escape sequences allow for including special characters into strings."
      ]
    },
    {
      "cell_type": "code",
      "metadata": {
        "id": "GQCAU1E9QuAG"
      },
      "source": [
        "print('Single quote strings can have \\'single\\' quotes if they are escaped')"
      ],
      "execution_count": null,
      "outputs": []
    },
    {
      "cell_type": "code",
      "metadata": {
        "id": "O_L2mPWgQ8SI"
      },
      "source": [
        "print(\"Double quote strings can have \\\"double\\\" quotes if they are escaped\")"
      ],
      "execution_count": null,
      "outputs": []
    },
    {
      "cell_type": "code",
      "metadata": {
        "id": "gAtD29cRQ_kD"
      },
      "source": [
        "print(\"Multiline strings\\ncan be created\\nusing escape sequences.\")"
      ],
      "execution_count": null,
      "outputs": []
    },
    {
      "cell_type": "code",
      "metadata": {
        "id": "eJZz0-AfRCrE",
        "colab": {
          "base_uri": "https://localhost:8080/"
        },
        "outputId": "37bc60e0-4d25-4200-cea2-c47a876c3acd"
      },
      "source": [
        "print(\"Backslashes \\\\ need to be escaped.\")"
      ],
      "execution_count": null,
      "outputs": [
        {
          "output_type": "stream",
          "name": "stdout",
          "text": [
            "Backslashes \\\\ need to be escaped.\n"
          ]
        }
      ]
    },
    {
      "cell_type": "code",
      "metadata": {
        "id": "Zr_zrrH9S8rV"
      },
      "source": [
        "print('Formatting text can benefit from a \\t \\'tab\\' \\t sequence.')"
      ],
      "execution_count": null,
      "outputs": []
    },
    {
      "cell_type": "markdown",
      "metadata": {
        "id": "Aqb0H4YqQuoN"
      },
      "source": [
        "When you type a large integer, you might be tempted to use commas between groups of three digits, as in 42,000. This is not a legal integer in Python, but it does mean something else, which is legal:"
      ]
    },
    {
      "cell_type": "code",
      "metadata": {
        "id": "9DSi9txTOVcB",
        "colab": {
          "base_uri": "https://localhost:8080/"
        },
        "outputId": "71c3ac28-2f2c-41d5-a4d1-df8c879f7f4a"
      },
      "source": [
        "print(42000)\n",
        "print(42,000)"
      ],
      "execution_count": null,
      "outputs": [
        {
          "output_type": "stream",
          "name": "stdout",
          "text": [
            "42000\n",
            "42 0\n"
          ]
        }
      ]
    },
    {
      "cell_type": "markdown",
      "metadata": {
        "id": "YP_Vcv0oOf63"
      },
      "source": [
        "Well, that’s not what we expected at all! Because of the comma, Python chose to treat this as a pair of values. In fact, the print function can print any number of values as long as you separate them by commas. Notice that the values are separated by spaces when they are displayed."
      ]
    },
    {
      "cell_type": "code",
      "metadata": {
        "id": "YleARvw7OjjK"
      },
      "source": [
        "print(42, 17, 56, 34, 11, 4.35, 32)\n",
        "print(3.4, \"hello\", 45)"
      ],
      "execution_count": null,
      "outputs": []
    },
    {
      "cell_type": "markdown",
      "metadata": {
        "id": "q-7HD2HKOmqb"
      },
      "source": [
        "Remember not to put commas or spaces in your integers, no matter how big they are. Also revisit what we said in the previous chapter: formal languages are strict, the notation is concise, and even the smallest change might mean something quite different from what you intended."
      ]
    }
  ]
}