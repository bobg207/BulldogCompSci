{
  "nbformat": 4,
  "nbformat_minor": 0,
  "metadata": {
    "colab": {
      "name": "Ch2-4_OperationsAndOperands.ipynb",
      "provenance": [],
      "collapsed_sections": [],
      "include_colab_link": true
    },
    "kernelspec": {
      "name": "python3",
      "display_name": "Python 3"
    }
  },
  "cells": [
    {
      "cell_type": "markdown",
      "metadata": {
        "id": "view-in-github",
        "colab_type": "text"
      },
      "source": [
        "<a href=\"https://colab.research.google.com/github/bobg207/BulldogCompSci/blob/master/Ch1_4_OperationsAndOperands.ipynb\" target=\"_parent\"><img src=\"https://colab.research.google.com/assets/colab-badge.svg\" alt=\"Open In Colab\"/></a>"
      ]
    },
    {
      "cell_type": "markdown",
      "metadata": {
        "id": "7w6cghRNsn_H"
      },
      "source": [
        "**Operators** are special tokens that represent computations like addition, multiplication and division. The values the operator works on are called **operands**.\n",
        "\n",
        "The following are all legal Python expressions whose meaning is more or less clear:\n",
        "\n",
        "    20 + 32\n",
        "    hour - 1\n",
        "    hour * 60 + minute\n",
        "    minute / 60\n",
        "    5 ** 2\n",
        "    (5 + 9) * (15 - 7)\n",
        "    \n",
        "The tokens +, -, and \\*, and the use of parenthesis for grouping, mean in Python what they mean in mathematics. The asterisk (\\*) is the token for multiplication, and ** is the token for exponentiation. Addition, subtraction, multiplication, and exponentiation all do what you expect."
      ]
    },
    {
      "cell_type": "code",
      "metadata": {
        "id": "-PGFU7mqtNjH"
      },
      "source": [
        "print(2.7 + 3)\n",
        "print(2 - 3)\n",
        "print(2 * 3)\n",
        "print(2 ** 3)\n",
        "print(3 ** 2)"
      ],
      "execution_count": null,
      "outputs": []
    },
    {
      "cell_type": "markdown",
      "metadata": {
        "id": "i1x-ldS6s8dc"
      },
      "source": [
        "When a variable name appears in the place of an operand, it is replaced with the value that it refers to before the operation is performed. For example, what if we wanted to convert 645 minutes into hours. In Python 3, division is denoted by the operator token / which always evaluates to a floating point result."
      ]
    },
    {
      "cell_type": "code",
      "metadata": {
        "id": "Y9nDVBjttrqW"
      },
      "source": [
        "minutes = 645\n",
        "hours = minutes / 60\n",
        "hours_2 = minutes // 60\n",
        "print(hours)\n",
        "print(hours_2)"
      ],
      "execution_count": null,
      "outputs": []
    },
    {
      "cell_type": "markdown",
      "metadata": {
        "id": "aC4kVDx2tvo7"
      },
      "source": [
        "What if, on the other hand, we had wanted to know how many whole hours there are and how many minutes remain. To help answer this question, Python gives us a second flavor of the division operator. This version, called integer division, uses the token //. It always truncates its result down to the next smallest integer (to the left on the number line)."
      ]
    },
    {
      "cell_type": "code",
      "metadata": {
        "id": "v6g7SRg2t0a0"
      },
      "source": [
        "print(7 / 4)\n",
        "print(7 // 4)\n",
        "minutes = 645\n",
        "hours = minutes // 60\n",
        "print(hours)"
      ],
      "execution_count": null,
      "outputs": []
    },
    {
      "cell_type": "markdown",
      "metadata": {
        "id": "Dk309ogvt3Qc"
      },
      "source": [
        "Pay particular attention to the first two examples above. Notice that the result of floating point division is 1.75 but the result of the integer division is simply 1. Take care that you choose the correct flavor of the division operator. If you’re working with expressions where you need floating point values, use the division operator /. If you want an integer result, use //.\n",
        "\n",
        "The **modulus operator**, sometimes also called the **remainder operator** or **integer remainder operator** works on integers (and integer expressions) and yields the remainder when the first operand is divided by the second. In Python, the modulus operator is a percent sign, %. The syntax is the same as for other operators."
      ]
    },
    {
      "cell_type": "code",
      "metadata": {
        "id": "p5Y77LJ7uKXR"
      },
      "source": [
        "quotient = 7 // 3     # This is the integer division operator\n",
        "print(quotient)\n",
        "remainder = 7 % 3\n",
        "print(remainder)"
      ],
      "execution_count": null,
      "outputs": []
    },
    {
      "cell_type": "markdown",
      "metadata": {
        "id": "KdcUKGCMuNaU"
      },
      "source": [
        "In the above example, 7 divided by 3 is 2 when we use integer division and there is a remainder of 1 when we use the modulus operator.\n",
        "\n",
        "The modulus operator turns out to be surprisingly useful. For example, you can check whether one number is divisible by another—if x % y is zero, then x is divisible by y. Also, you can extract the right-most digit or digits from a number. For example, x % 10 yields the right-most digit of x (in base 10). Similarly x % 100 yields the last two digits.\n",
        "\n",
        "Finally, returning to our time example, the remainder operator is extremely useful for doing conversions, say from seconds, to hours, minutes and seconds. If we start with a number of seconds, say 7684, the following program uses integer division and remainder to convert to an easier form. First run the code below to see the final result."
      ]
    },
    {
      "cell_type": "code",
      "metadata": {
        "id": "8lzl63OKuhhs"
      },
      "source": [
        "total_secs = 7684\n",
        "hours = total_secs // 3600\n",
        "secs_still_remaining = total_secs % 3600\n",
        "minutes =  secs_still_remaining // 60\n",
        "secs_finally_remaining = secs_still_remaining  % 60\n",
        "print(secs_finally_remaining)"
      ],
      "execution_count": null,
      "outputs": []
    },
    {
      "cell_type": "markdown",
      "metadata": {
        "id": "u0FSLrNXvRu7"
      },
      "source": [
        "Now run through each line individually to see process for arriving at the final answer.  \n",
        "\n",
        "    Note\n",
        "    Using print() to verify each new line of code is a very important part of actively debugging your code.  Doing this you'll find errors before they get buried in many lines of code."
      ]
    },
    {
      "cell_type": "code",
      "metadata": {
        "id": "dYRUK-SgvGoR"
      },
      "source": [
        "total_secs = 7684\n",
        "print(total_secs)"
      ],
      "execution_count": null,
      "outputs": []
    },
    {
      "cell_type": "code",
      "metadata": {
        "id": "pNmiXntavzmX"
      },
      "source": [
        "hours = total_secs // 3600\n",
        "print(hours)"
      ],
      "execution_count": null,
      "outputs": []
    },
    {
      "cell_type": "code",
      "metadata": {
        "id": "FRS-g6t3v2TG"
      },
      "source": [
        "secs_still_remaining = total_secs % 3600\n",
        "print(secs_still_remaining)"
      ],
      "execution_count": null,
      "outputs": []
    },
    {
      "cell_type": "code",
      "metadata": {
        "id": "9XIhUNb5v4wc"
      },
      "source": [
        "minutes =  secs_still_remaining // 60\n",
        "print(minutes)"
      ],
      "execution_count": null,
      "outputs": []
    },
    {
      "cell_type": "code",
      "metadata": {
        "id": "AP4IGumwv69L"
      },
      "source": [
        "secs_finally_remaining = secs_still_remaining  % 60\n",
        "print(secs_finally_remaining)"
      ],
      "execution_count": null,
      "outputs": []
    },
    {
      "cell_type": "markdown",
      "metadata": {
        "id": "v6xMoQJzX3h4"
      },
      "source": [
        "# Concatenation\n",
        "Some operators can be used on strings, as well.  **Concatenation** is addition of strings.  When any number of strings are added together the result is a new string with all of the original strings combined."
      ]
    },
    {
      "cell_type": "code",
      "metadata": {
        "id": "_xNlfJPtYWnI",
        "colab": {
          "base_uri": "https://localhost:8080/"
        },
        "outputId": "5f9805f1-a96c-4848-8189-aaeb3e9c9062"
      },
      "source": [
        "first_name = 'John'\n",
        "middle_init = 'Q'\n",
        "last_name = 'Doe'\n",
        "print(first_name + middle_init + last_name)\n",
        "\n",
        "# another, more easily read example\n",
        "full_name = first_name + middle_init + last_name\n",
        "print(full_name)\n"
      ],
      "execution_count": null,
      "outputs": [
        {
          "output_type": "stream",
          "name": "stdout",
          "text": [
            "JohnQDoe\n",
            "JohnQDoe\n"
          ]
        }
      ]
    },
    {
      "cell_type": "markdown",
      "metadata": {
        "id": "p5-jZgSBYorl"
      },
      "source": [
        "Notice that the three strings, in the example above, are just \"smashed\" together.  Spaces are string characters and need to be coded explicitly if wanted."
      ]
    },
    {
      "cell_type": "code",
      "metadata": {
        "id": "vZtdB2M9Y5LU",
        "colab": {
          "base_uri": "https://localhost:8080/"
        },
        "outputId": "189dd5c8-5a93-41a6-b94b-af9cc88c2484"
      },
      "source": [
        "first_name = 'John'\n",
        "middle_init = 'Q'\n",
        "last_name = 'Doe'\n",
        "\n",
        "# the seemingly empty strings, between the names, below actually contain a space char\n",
        "print(first_name + ' ' + middle_init + ' ' + last_name)\n",
        "\n",
        "full_name = first_name + ' *' + middle_init + '* ' + last_name\n",
        "print(full_name)\n"
      ],
      "execution_count": null,
      "outputs": [
        {
          "output_type": "stream",
          "name": "stdout",
          "text": [
            "John Q Doe\n",
            "John *Q* Doe\n"
          ]
        }
      ]
    },
    {
      "cell_type": "markdown",
      "metadata": {
        "id": "EHRj_MWOV2yO"
      },
      "source": [
        "There will be times when you have values with differing data-types but need to combine them either mathematically, as text, or other.  To allow this we'll regularly need to change the data-type, permanently or temporarily.  To do this we can use the following functions \n",
        "\n",
        "```\n",
        "str(value) --> changes \"value\" to a string\n",
        "int(value) --> changes \"value\" to an int (only possible if value's chars are numerical)\n",
        "float(value) --> changes \"value\" to a float (only possible if value's chars are numerical)\n",
        "```\n",
        "\n"
      ]
    },
    {
      "cell_type": "code",
      "metadata": {
        "id": "sBaWsCAhXbu8"
      },
      "source": [
        "name = \"John\"\n",
        "age = 25\n",
        "current_height = \"2.1\" \n",
        "former_height = \"1.9\""
      ],
      "execution_count": null,
      "outputs": []
    },
    {
      "cell_type": "code",
      "metadata": {
        "id": "V6uTZpviY9jP"
      },
      "source": [
        "print(type(current_height))\n",
        "print(float(current_height))\n",
        "print(type(float(current_height)))"
      ],
      "execution_count": null,
      "outputs": []
    },
    {
      "cell_type": "code",
      "metadata": {
        "id": "AUF6xrGYZE0J"
      },
      "source": [
        "height_change = float(current_height) - float(former_height)\n",
        "print(height_change)"
      ],
      "execution_count": null,
      "outputs": []
    },
    {
      "cell_type": "code",
      "metadata": {
        "id": "02mf6PAPZB1f"
      },
      "source": [
        "my_message = name + \" is \" + str(age) + \" years old. And is \" + height + \" meters tall.\"\n",
        "print(my_message)"
      ],
      "execution_count": null,
      "outputs": []
    },
    {
      "cell_type": "markdown",
      "metadata": {
        "id": "tfw0zWAqwAz5"
      },
      "source": [
        "Your turn.\n",
        "\n",
        "Think about the solution to each of these, BEFORE running the code.  Nobody is watching so it's ok to be wrong but fun to be right.  Even more fun to be wrong and learn from it."
      ]
    },
    {
      "cell_type": "code",
      "metadata": {
        "id": "5O2tbA6l4qft"
      },
      "source": [
        "# What value is printed when the following statement executes?\n",
        "\n",
        "print(18 / 4)"
      ],
      "execution_count": null,
      "outputs": []
    },
    {
      "cell_type": "code",
      "metadata": {
        "id": "OK_nHCBi3WKN"
      },
      "source": [
        "# What value is printed when the following statement executes?\n",
        "\n",
        "print(18 // 4)"
      ],
      "execution_count": null,
      "outputs": []
    },
    {
      "cell_type": "code",
      "metadata": {
        "id": "4iQ419OQ3Wr1"
      },
      "source": [
        "# What value is printed when the following statement executes?\n",
        "\n",
        "print(18 % 4)"
      ],
      "execution_count": null,
      "outputs": []
    },
    {
      "cell_type": "code",
      "metadata": {
        "id": "dy52KZ6z3XFr"
      },
      "source": [
        ""
      ],
      "execution_count": null,
      "outputs": []
    }
  ]
}