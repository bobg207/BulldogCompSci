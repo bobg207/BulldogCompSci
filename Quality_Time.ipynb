{
  "nbformat": 4,
  "nbformat_minor": 0,
  "metadata": {
    "colab": {
      "provenance": [],
      "authorship_tag": "ABX9TyPzcE9iNNaohrHyyf2TVS3a",
      "include_colab_link": true
    },
    "kernelspec": {
      "name": "python3",
      "display_name": "Python 3"
    },
    "language_info": {
      "name": "python"
    }
  },
  "cells": [
    {
      "cell_type": "markdown",
      "metadata": {
        "id": "view-in-github",
        "colab_type": "text"
      },
      "source": [
        "<a href=\"https://colab.research.google.com/github/bobg207/BulldogCompSci/blob/master/Quality_Time.ipynb\" target=\"_parent\"><img src=\"https://colab.research.google.com/assets/colab-badge.svg\" alt=\"Open In Colab\"/></a>"
      ]
    },
    {
      "cell_type": "markdown",
      "source": [
        "# Imports\n",
        "Import all modules/libraries"
      ],
      "metadata": {
        "id": "De30EVQQnzHH"
      }
    },
    {
      "cell_type": "code",
      "source": [
        "# cell for importing all modules and libraries\n"
      ],
      "metadata": {
        "id": "umjMEVyAn5zr"
      },
      "execution_count": null,
      "outputs": []
    },
    {
      "cell_type": "markdown",
      "source": [
        "# Functions"
      ],
      "metadata": {
        "id": "1SvmzBj4niko"
      }
    },
    {
      "cell_type": "markdown",
      "source": [
        "## Create functions\n",
        "\n",
        "1.   Write a python function that takes as input a list of data and returns the values of the first, second and\n",
        "third quartiles.\n",
        "2.   Write 3 separate python functions to plot a histogram, piechart, and box plot. The plotting functions\n",
        "should be made as “generic” as possible so they can be reused. At a minimum they should accept the\n",
        "following as inputs :\n",
        "\n",
        "          data – where data is a numerical list of values to be plotted.\n",
        "          xaxis label – string for the label of the xaxis\n",
        "          yaxis label – string for the label of the yaxis\n",
        "          title – string for the title of the plot\n",
        "\n",
        "    Feel free to add any additional arguments to the function call that you think will enhance your plot.\n",
        "\n",
        "    These 3 functions should put into your generic function library."
      ],
      "metadata": {
        "id": "OO82Diw2oCZa"
      }
    },
    {
      "cell_type": "code",
      "source": [
        "# cell for all functions\n"
      ],
      "metadata": {
        "id": "g3SYTG4jnpYi"
      },
      "execution_count": null,
      "outputs": []
    },
    {
      "cell_type": "markdown",
      "source": [
        "# Get/Load data\n",
        "\n",
        "https://github.com/bobg207/Honors_Data_Analysis/blob/master/website_times.txt\n",
        "\n",
        "Make sure to use the URL from the **RAW** data"
      ],
      "metadata": {
        "id": "syvTmSmfnH0Q"
      }
    },
    {
      "cell_type": "code",
      "execution_count": null,
      "metadata": {
        "id": "FXoUaqHRmHFr"
      },
      "outputs": [],
      "source": [
        "# cell for loading data\n"
      ]
    },
    {
      "cell_type": "markdown",
      "source": [
        "# Create a simple presentation of the data\n",
        "\n",
        "Using the above plotting functions as well as the simple statistics function you wrote for exercise 1, \n",
        "\n",
        "1.    Write a Python program to read in a set of data containing data on the length of time a user spends on a website. \n",
        "      \n",
        "      Your program should output the following statistics for the data set \n",
        "          Mean, Median, Variance, \n",
        "          Standard Deviation, Min and Max. \n",
        "          \n",
        "      Your program should also output a Boxplot, histogram and pie chart for the data.\n",
        "You will be provided a data files each containing data on the length of time a user spends on a website for two different websites.\n",
        "\n",
        "Take the outputs of your programs, i.e. the plots and statistics and, using combinations of \"Text\" and \"Code\" cells, create a presentation of your findings."
      ],
      "metadata": {
        "id": "NRa7QxyMowQ4"
      }
    }
  ]
}